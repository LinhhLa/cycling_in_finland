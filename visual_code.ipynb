{
 "cells": [
  {
   "cell_type": "markdown",
   "id": "1a6f5ef3-b843-421b-b3f9-11dd864423d5",
   "metadata": {},
   "source": [
    "# Read base datasets"
   ]
  },
  {
   "cell_type": "code",
   "execution_count": 54,
   "id": "5dcf9285-aef8-4f99-9b6d-ec3c672904ca",
   "metadata": {
    "tags": []
   },
   "outputs": [],
   "source": [
    "import pandas as pd\n",
    "\n",
    "# Read the CSV file into a DataFrame\n",
    "espoo_pop = pd.read_csv(\"Espoo.csv\") # Espoo's population\n",
    "hel_pop = pd.read_csv(\"Helsinki.csv\") # Helsinki's population\n",
    "lat_lon = pd.read_csv(\"lat_lon.csv\") # Latitudes and longitudes of different regions\n",
    "route = pd.read_csv(\"route_info.csv\") # Total distance and total duration of different routes"
   ]
  },
  {
   "cell_type": "code",
   "execution_count": 25,
   "id": "fb2acb61",
   "metadata": {},
   "outputs": [
    {
     "data": {
      "text/html": [
       "<div>\n",
       "<style scoped>\n",
       "    .dataframe tbody tr th:only-of-type {\n",
       "        vertical-align: middle;\n",
       "    }\n",
       "\n",
       "    .dataframe tbody tr th {\n",
       "        vertical-align: top;\n",
       "    }\n",
       "\n",
       "    .dataframe thead th {\n",
       "        text-align: right;\n",
       "    }\n",
       "</style>\n",
       "<table border=\"1\" class=\"dataframe\">\n",
       "  <thead>\n",
       "    <tr style=\"text-align: right;\">\n",
       "      <th></th>\n",
       "      <th>Region</th>\n",
       "      <th>Subregion 1</th>\n",
       "      <th>Subregion 2</th>\n",
       "      <th>Lat</th>\n",
       "      <th>Lon</th>\n",
       "    </tr>\n",
       "  </thead>\n",
       "  <tbody>\n",
       "    <tr>\n",
       "      <th>0</th>\n",
       "      <td>Espoo</td>\n",
       "      <td>049 1 Suur-Leppävaara</td>\n",
       "      <td>049 11 Kanta-Leppävaara</td>\n",
       "      <td>60.2151</td>\n",
       "      <td>24.8092</td>\n",
       "    </tr>\n",
       "    <tr>\n",
       "      <th>1</th>\n",
       "      <td>Espoo</td>\n",
       "      <td>049 1 Suur-Leppävaara</td>\n",
       "      <td>049 13 Kilo-Karakallio</td>\n",
       "      <td>60.2151</td>\n",
       "      <td>24.8092</td>\n",
       "    </tr>\n",
       "    <tr>\n",
       "      <th>2</th>\n",
       "      <td>Espoo</td>\n",
       "      <td>049 1 Suur-Leppävaara</td>\n",
       "      <td>049 14 Laaksolahti</td>\n",
       "      <td>60.2151</td>\n",
       "      <td>24.8092</td>\n",
       "    </tr>\n",
       "    <tr>\n",
       "      <th>3</th>\n",
       "      <td>Espoo</td>\n",
       "      <td>049 1 Suur-Leppävaara</td>\n",
       "      <td>049 15 Viherlaakso-Lippajärvi</td>\n",
       "      <td>60.2151</td>\n",
       "      <td>24.8092</td>\n",
       "    </tr>\n",
       "    <tr>\n",
       "      <th>4</th>\n",
       "      <td>Espoo</td>\n",
       "      <td>049 1 Suur-Leppävaara</td>\n",
       "      <td>049 16 Sepänkylä</td>\n",
       "      <td>60.2151</td>\n",
       "      <td>24.8092</td>\n",
       "    </tr>\n",
       "    <tr>\n",
       "      <th>...</th>\n",
       "      <td>...</td>\n",
       "      <td>...</td>\n",
       "      <td>...</td>\n",
       "      <td>...</td>\n",
       "      <td>...</td>\n",
       "    </tr>\n",
       "    <tr>\n",
       "      <th>994</th>\n",
       "      <td>NaN</td>\n",
       "      <td>NaN</td>\n",
       "      <td>NaN</td>\n",
       "      <td>NaN</td>\n",
       "      <td>NaN</td>\n",
       "    </tr>\n",
       "    <tr>\n",
       "      <th>995</th>\n",
       "      <td>NaN</td>\n",
       "      <td>NaN</td>\n",
       "      <td>NaN</td>\n",
       "      <td>NaN</td>\n",
       "      <td>NaN</td>\n",
       "    </tr>\n",
       "    <tr>\n",
       "      <th>996</th>\n",
       "      <td>NaN</td>\n",
       "      <td>NaN</td>\n",
       "      <td>NaN</td>\n",
       "      <td>NaN</td>\n",
       "      <td>NaN</td>\n",
       "    </tr>\n",
       "    <tr>\n",
       "      <th>997</th>\n",
       "      <td>NaN</td>\n",
       "      <td>NaN</td>\n",
       "      <td>NaN</td>\n",
       "      <td>NaN</td>\n",
       "      <td>NaN</td>\n",
       "    </tr>\n",
       "    <tr>\n",
       "      <th>998</th>\n",
       "      <td>NaN</td>\n",
       "      <td>NaN</td>\n",
       "      <td>NaN</td>\n",
       "      <td>NaN</td>\n",
       "      <td>NaN</td>\n",
       "    </tr>\n",
       "  </tbody>\n",
       "</table>\n",
       "<p>999 rows × 5 columns</p>\n",
       "</div>"
      ],
      "text/plain": [
       "    Region            Subregion 1                    Subregion 2      Lat  \\\n",
       "0    Espoo  049 1 Suur-Leppävaara        049 11 Kanta-Leppävaara  60.2151   \n",
       "1    Espoo  049 1 Suur-Leppävaara         049 13 Kilo-Karakallio  60.2151   \n",
       "2    Espoo  049 1 Suur-Leppävaara             049 14 Laaksolahti  60.2151   \n",
       "3    Espoo  049 1 Suur-Leppävaara  049 15 Viherlaakso-Lippajärvi  60.2151   \n",
       "4    Espoo  049 1 Suur-Leppävaara               049 16 Sepänkylä  60.2151   \n",
       "..     ...                    ...                            ...      ...   \n",
       "994    NaN                    NaN                            NaN      NaN   \n",
       "995    NaN                    NaN                            NaN      NaN   \n",
       "996    NaN                    NaN                            NaN      NaN   \n",
       "997    NaN                    NaN                            NaN      NaN   \n",
       "998    NaN                    NaN                            NaN      NaN   \n",
       "\n",
       "         Lon  \n",
       "0    24.8092  \n",
       "1    24.8092  \n",
       "2    24.8092  \n",
       "3    24.8092  \n",
       "4    24.8092  \n",
       "..       ...  \n",
       "994      NaN  \n",
       "995      NaN  \n",
       "996      NaN  \n",
       "997      NaN  \n",
       "998      NaN  \n",
       "\n",
       "[999 rows x 5 columns]"
      ]
     },
     "execution_count": 25,
     "metadata": {},
     "output_type": "execute_result"
    }
   ],
   "source": [
    "lat_lon"
   ]
  },
  {
   "cell_type": "code",
   "execution_count": 26,
   "id": "7b5003fb-01da-47f4-ba01-9eae20cc080f",
   "metadata": {
    "tags": []
   },
   "outputs": [
    {
     "data": {
      "text/html": [
       "<div>\n",
       "<style scoped>\n",
       "    .dataframe tbody tr th:only-of-type {\n",
       "        vertical-align: middle;\n",
       "    }\n",
       "\n",
       "    .dataframe tbody tr th {\n",
       "        vertical-align: top;\n",
       "    }\n",
       "\n",
       "    .dataframe thead th {\n",
       "        text-align: right;\n",
       "    }\n",
       "</style>\n",
       "<table border=\"1\" class=\"dataframe\">\n",
       "  <thead>\n",
       "    <tr style=\"text-align: right;\">\n",
       "      <th></th>\n",
       "      <th>Unnamed: 0</th>\n",
       "      <th>0-6</th>\n",
       "      <th>7-12</th>\n",
       "      <th>13-15</th>\n",
       "      <th>16-19</th>\n",
       "      <th>20-29</th>\n",
       "      <th>30-39</th>\n",
       "      <th>40-49</th>\n",
       "      <th>50-64</th>\n",
       "      <th>65-74</th>\n",
       "      <th>75-84</th>\n",
       "      <th>Over 85</th>\n",
       "      <th>Total population</th>\n",
       "    </tr>\n",
       "  </thead>\n",
       "  <tbody>\n",
       "    <tr>\n",
       "      <th>0</th>\n",
       "      <td>049 1 Suur-Leppävaara</td>\n",
       "      <td>6283</td>\n",
       "      <td>5708</td>\n",
       "      <td>2782</td>\n",
       "      <td>3357</td>\n",
       "      <td>10341</td>\n",
       "      <td>12904</td>\n",
       "      <td>10528</td>\n",
       "      <td>12331</td>\n",
       "      <td>5736</td>\n",
       "      <td>3516</td>\n",
       "      <td>1138</td>\n",
       "      <td>74624</td>\n",
       "    </tr>\n",
       "    <tr>\n",
       "      <th>1</th>\n",
       "      <td>049 2 Suur-Tapiola</td>\n",
       "      <td>3610</td>\n",
       "      <td>3573</td>\n",
       "      <td>1731</td>\n",
       "      <td>2247</td>\n",
       "      <td>9092</td>\n",
       "      <td>7814</td>\n",
       "      <td>6827</td>\n",
       "      <td>8178</td>\n",
       "      <td>4659</td>\n",
       "      <td>3120</td>\n",
       "      <td>1139</td>\n",
       "      <td>51990</td>\n",
       "    </tr>\n",
       "    <tr>\n",
       "      <th>2</th>\n",
       "      <td>049 3 Suur-Matinkylä</td>\n",
       "      <td>3258</td>\n",
       "      <td>3112</td>\n",
       "      <td>1416</td>\n",
       "      <td>1766</td>\n",
       "      <td>6192</td>\n",
       "      <td>7508</td>\n",
       "      <td>5848</td>\n",
       "      <td>6980</td>\n",
       "      <td>4134</td>\n",
       "      <td>2802</td>\n",
       "      <td>715</td>\n",
       "      <td>43731</td>\n",
       "    </tr>\n",
       "    <tr>\n",
       "      <th>3</th>\n",
       "      <td>049 4 Suur-Espoonlahti</td>\n",
       "      <td>4457</td>\n",
       "      <td>4837</td>\n",
       "      <td>2442</td>\n",
       "      <td>2904</td>\n",
       "      <td>5192</td>\n",
       "      <td>8040</td>\n",
       "      <td>8528</td>\n",
       "      <td>11034</td>\n",
       "      <td>5621</td>\n",
       "      <td>3490</td>\n",
       "      <td>888</td>\n",
       "      <td>57433</td>\n",
       "    </tr>\n",
       "    <tr>\n",
       "      <th>4</th>\n",
       "      <td>049 5 Suur-Kauklahti</td>\n",
       "      <td>1277</td>\n",
       "      <td>1299</td>\n",
       "      <td>604</td>\n",
       "      <td>642</td>\n",
       "      <td>1187</td>\n",
       "      <td>1980</td>\n",
       "      <td>2083</td>\n",
       "      <td>1978</td>\n",
       "      <td>650</td>\n",
       "      <td>312</td>\n",
       "      <td>107</td>\n",
       "      <td>12119</td>\n",
       "    </tr>\n",
       "    <tr>\n",
       "      <th>5</th>\n",
       "      <td>049 6 Vanha-Espoo</td>\n",
       "      <td>3602</td>\n",
       "      <td>3412</td>\n",
       "      <td>1669</td>\n",
       "      <td>2008</td>\n",
       "      <td>4717</td>\n",
       "      <td>6486</td>\n",
       "      <td>6208</td>\n",
       "      <td>7638</td>\n",
       "      <td>3240</td>\n",
       "      <td>1542</td>\n",
       "      <td>333</td>\n",
       "      <td>40855</td>\n",
       "    </tr>\n",
       "    <tr>\n",
       "      <th>6</th>\n",
       "      <td>049 7 Pohjois-Espoo</td>\n",
       "      <td>1076</td>\n",
       "      <td>1230</td>\n",
       "      <td>606</td>\n",
       "      <td>710</td>\n",
       "      <td>828</td>\n",
       "      <td>1560</td>\n",
       "      <td>1944</td>\n",
       "      <td>2463</td>\n",
       "      <td>870</td>\n",
       "      <td>401</td>\n",
       "      <td>110</td>\n",
       "      <td>11798</td>\n",
       "    </tr>\n",
       "    <tr>\n",
       "      <th>7</th>\n",
       "      <td>049 999 Muut</td>\n",
       "      <td>167</td>\n",
       "      <td>229</td>\n",
       "      <td>188</td>\n",
       "      <td>262</td>\n",
       "      <td>894</td>\n",
       "      <td>867</td>\n",
       "      <td>680</td>\n",
       "      <td>650</td>\n",
       "      <td>228</td>\n",
       "      <td>181</td>\n",
       "      <td>236</td>\n",
       "      <td>4582</td>\n",
       "    </tr>\n",
       "  </tbody>\n",
       "</table>\n",
       "</div>"
      ],
      "text/plain": [
       "               Unnamed: 0   0-6  7-12  13-15  16-19  20-29  30-39  40-49  \\\n",
       "0   049 1 Suur-Leppävaara  6283  5708   2782   3357  10341  12904  10528   \n",
       "1      049 2 Suur-Tapiola  3610  3573   1731   2247   9092   7814   6827   \n",
       "2    049 3 Suur-Matinkylä  3258  3112   1416   1766   6192   7508   5848   \n",
       "3  049 4 Suur-Espoonlahti  4457  4837   2442   2904   5192   8040   8528   \n",
       "4    049 5 Suur-Kauklahti  1277  1299    604    642   1187   1980   2083   \n",
       "5       049 6 Vanha-Espoo  3602  3412   1669   2008   4717   6486   6208   \n",
       "6     049 7 Pohjois-Espoo  1076  1230    606    710    828   1560   1944   \n",
       "7            049 999 Muut   167   229    188    262    894    867    680   \n",
       "\n",
       "   50-64  65-74  75-84  Over 85  Total population  \n",
       "0  12331   5736   3516     1138             74624  \n",
       "1   8178   4659   3120     1139             51990  \n",
       "2   6980   4134   2802      715             43731  \n",
       "3  11034   5621   3490      888             57433  \n",
       "4   1978    650    312      107             12119  \n",
       "5   7638   3240   1542      333             40855  \n",
       "6   2463    870    401      110             11798  \n",
       "7    650    228    181      236              4582  "
      ]
     },
     "execution_count": 26,
     "metadata": {},
     "output_type": "execute_result"
    }
   ],
   "source": [
    "espoo_pop"
   ]
  },
  {
   "cell_type": "code",
   "execution_count": 27,
   "id": "64ca2155-15ee-4db3-bc84-ebb360077aa6",
   "metadata": {
    "tags": []
   },
   "outputs": [
    {
     "data": {
      "text/html": [
       "<div>\n",
       "<style scoped>\n",
       "    .dataframe tbody tr th:only-of-type {\n",
       "        vertical-align: middle;\n",
       "    }\n",
       "\n",
       "    .dataframe tbody tr th {\n",
       "        vertical-align: top;\n",
       "    }\n",
       "\n",
       "    .dataframe thead th {\n",
       "        text-align: right;\n",
       "    }\n",
       "</style>\n",
       "<table border=\"1\" class=\"dataframe\">\n",
       "  <thead>\n",
       "    <tr style=\"text-align: right;\">\n",
       "      <th></th>\n",
       "      <th>Unnamed: 0</th>\n",
       "      <th>0-6</th>\n",
       "      <th>7-12</th>\n",
       "      <th>13-15</th>\n",
       "      <th>16-19</th>\n",
       "      <th>20-29</th>\n",
       "      <th>30-39</th>\n",
       "      <th>40-49</th>\n",
       "      <th>50-64</th>\n",
       "      <th>65-74</th>\n",
       "      <th>75-84</th>\n",
       "      <th>Over 85</th>\n",
       "      <th>Total</th>\n",
       "    </tr>\n",
       "  </thead>\n",
       "  <tbody>\n",
       "    <tr>\n",
       "      <th>0</th>\n",
       "      <td>091 1 Eteläinen suurpiiri</td>\n",
       "      <td>7216</td>\n",
       "      <td>5968</td>\n",
       "      <td>2650</td>\n",
       "      <td>3536</td>\n",
       "      <td>22791</td>\n",
       "      <td>22230</td>\n",
       "      <td>16498</td>\n",
       "      <td>19312</td>\n",
       "      <td>11020</td>\n",
       "      <td>7700</td>\n",
       "      <td>2236</td>\n",
       "      <td>121157</td>\n",
       "    </tr>\n",
       "    <tr>\n",
       "      <th>1</th>\n",
       "      <td>091 2 Läntinen suurpiiri</td>\n",
       "      <td>7419</td>\n",
       "      <td>6238</td>\n",
       "      <td>2858</td>\n",
       "      <td>3919</td>\n",
       "      <td>17570</td>\n",
       "      <td>20295</td>\n",
       "      <td>14285</td>\n",
       "      <td>18713</td>\n",
       "      <td>10898</td>\n",
       "      <td>6956</td>\n",
       "      <td>2894</td>\n",
       "      <td>112045</td>\n",
       "    </tr>\n",
       "    <tr>\n",
       "      <th>2</th>\n",
       "      <td>091 3 Keskinen suurpiiri</td>\n",
       "      <td>5160</td>\n",
       "      <td>3718</td>\n",
       "      <td>1436</td>\n",
       "      <td>2585</td>\n",
       "      <td>22512</td>\n",
       "      <td>22524</td>\n",
       "      <td>12902</td>\n",
       "      <td>13745</td>\n",
       "      <td>8038</td>\n",
       "      <td>4446</td>\n",
       "      <td>1574</td>\n",
       "      <td>98640</td>\n",
       "    </tr>\n",
       "    <tr>\n",
       "      <th>3</th>\n",
       "      <td>091 4 Pohjoinen suurpiiri</td>\n",
       "      <td>3293</td>\n",
       "      <td>3401</td>\n",
       "      <td>1584</td>\n",
       "      <td>1901</td>\n",
       "      <td>3599</td>\n",
       "      <td>6071</td>\n",
       "      <td>6227</td>\n",
       "      <td>8152</td>\n",
       "      <td>4645</td>\n",
       "      <td>2902</td>\n",
       "      <td>1198</td>\n",
       "      <td>42973</td>\n",
       "    </tr>\n",
       "    <tr>\n",
       "      <th>4</th>\n",
       "      <td>091 5 Koillinen suurpiiri</td>\n",
       "      <td>7902</td>\n",
       "      <td>7256</td>\n",
       "      <td>3372</td>\n",
       "      <td>4117</td>\n",
       "      <td>11639</td>\n",
       "      <td>16035</td>\n",
       "      <td>13163</td>\n",
       "      <td>18333</td>\n",
       "      <td>10076</td>\n",
       "      <td>5648</td>\n",
       "      <td>1810</td>\n",
       "      <td>99351</td>\n",
       "    </tr>\n",
       "    <tr>\n",
       "      <th>5</th>\n",
       "      <td>091 6 Kaakkoinen suurpiiri</td>\n",
       "      <td>4296</td>\n",
       "      <td>3736</td>\n",
       "      <td>1606</td>\n",
       "      <td>2014</td>\n",
       "      <td>7089</td>\n",
       "      <td>9751</td>\n",
       "      <td>7818</td>\n",
       "      <td>10321</td>\n",
       "      <td>5574</td>\n",
       "      <td>3323</td>\n",
       "      <td>1200</td>\n",
       "      <td>56728</td>\n",
       "    </tr>\n",
       "    <tr>\n",
       "      <th>6</th>\n",
       "      <td>091 7 Itäinen suurpiiri</td>\n",
       "      <td>8267</td>\n",
       "      <td>7428</td>\n",
       "      <td>3673</td>\n",
       "      <td>4772</td>\n",
       "      <td>12901</td>\n",
       "      <td>16724</td>\n",
       "      <td>14277</td>\n",
       "      <td>22629</td>\n",
       "      <td>11606</td>\n",
       "      <td>7579</td>\n",
       "      <td>2997</td>\n",
       "      <td>112853</td>\n",
       "    </tr>\n",
       "    <tr>\n",
       "      <th>7</th>\n",
       "      <td>091 8 Östersundomin suurpiiri</td>\n",
       "      <td>82</td>\n",
       "      <td>137</td>\n",
       "      <td>95</td>\n",
       "      <td>153</td>\n",
       "      <td>129</td>\n",
       "      <td>117</td>\n",
       "      <td>261</td>\n",
       "      <td>595</td>\n",
       "      <td>135</td>\n",
       "      <td>90</td>\n",
       "      <td>15</td>\n",
       "      <td>1809</td>\n",
       "    </tr>\n",
       "    <tr>\n",
       "      <th>8</th>\n",
       "      <td>091 999 Muut</td>\n",
       "      <td>395</td>\n",
       "      <td>557</td>\n",
       "      <td>352</td>\n",
       "      <td>558</td>\n",
       "      <td>2930</td>\n",
       "      <td>2777</td>\n",
       "      <td>1930</td>\n",
       "      <td>1980</td>\n",
       "      <td>696</td>\n",
       "      <td>372</td>\n",
       "      <td>354</td>\n",
       "      <td>12901</td>\n",
       "    </tr>\n",
       "  </tbody>\n",
       "</table>\n",
       "</div>"
      ],
      "text/plain": [
       "                      Unnamed: 0   0-6  7-12  13-15  16-19  20-29  30-39  \\\n",
       "0      091 1 Eteläinen suurpiiri  7216  5968   2650   3536  22791  22230   \n",
       "1       091 2 Läntinen suurpiiri  7419  6238   2858   3919  17570  20295   \n",
       "2       091 3 Keskinen suurpiiri  5160  3718   1436   2585  22512  22524   \n",
       "3      091 4 Pohjoinen suurpiiri  3293  3401   1584   1901   3599   6071   \n",
       "4      091 5 Koillinen suurpiiri  7902  7256   3372   4117  11639  16035   \n",
       "5     091 6 Kaakkoinen suurpiiri  4296  3736   1606   2014   7089   9751   \n",
       "6        091 7 Itäinen suurpiiri  8267  7428   3673   4772  12901  16724   \n",
       "7  091 8 Östersundomin suurpiiri    82   137     95    153    129    117   \n",
       "8                   091 999 Muut   395   557    352    558   2930   2777   \n",
       "\n",
       "   40-49  50-64  65-74  75-84  Over 85   Total  \n",
       "0  16498  19312  11020   7700     2236  121157  \n",
       "1  14285  18713  10898   6956     2894  112045  \n",
       "2  12902  13745   8038   4446     1574   98640  \n",
       "3   6227   8152   4645   2902     1198   42973  \n",
       "4  13163  18333  10076   5648     1810   99351  \n",
       "5   7818  10321   5574   3323     1200   56728  \n",
       "6  14277  22629  11606   7579     2997  112853  \n",
       "7    261    595    135     90       15    1809  \n",
       "8   1930   1980    696    372      354   12901  "
      ]
     },
     "execution_count": 27,
     "metadata": {},
     "output_type": "execute_result"
    }
   ],
   "source": [
    "hel_pop"
   ]
  },
  {
   "cell_type": "markdown",
   "id": "450f6fbb-d350-49f3-986d-095b50a97e87",
   "metadata": {},
   "source": [
    "# Combine and clean data"
   ]
  },
  {
   "cell_type": "markdown",
   "id": "dd2b4d92-5b05-4096-a21b-6a2be61b2126",
   "metadata": {},
   "source": [
    "## Process lat_lon dataset"
   ]
  },
  {
   "cell_type": "code",
   "execution_count": 28,
   "id": "8a397244-ce0d-4a96-8386-1f21f91b6168",
   "metadata": {
    "tags": []
   },
   "outputs": [
    {
     "name": "stdout",
     "output_type": "stream",
     "text": [
      "<class 'pandas.core.frame.DataFrame'>\n",
      "Index: 60 entries, 0 to 59\n",
      "Data columns (total 5 columns):\n",
      " #   Column       Non-Null Count  Dtype  \n",
      "---  ------       --------------  -----  \n",
      " 0   Region       60 non-null     object \n",
      " 1   Subregion 1  60 non-null     object \n",
      " 2   Subregion 2  60 non-null     object \n",
      " 3   Lat          60 non-null     float64\n",
      " 4   Lon          60 non-null     float64\n",
      "dtypes: float64(2), object(3)\n",
      "memory usage: 2.8+ KB\n"
     ]
    }
   ],
   "source": [
    "# Drop NaN in lat_lon dataset\n",
    "lat_lon.dropna(inplace = True)\n",
    "lat_lon.info()"
   ]
  },
  {
   "cell_type": "code",
   "execution_count": 29,
   "id": "f53e4a71-192a-4cf7-9d26-039a8429ea30",
   "metadata": {
    "tags": []
   },
   "outputs": [
    {
     "data": {
      "text/html": [
       "<div>\n",
       "<style scoped>\n",
       "    .dataframe tbody tr th:only-of-type {\n",
       "        vertical-align: middle;\n",
       "    }\n",
       "\n",
       "    .dataframe tbody tr th {\n",
       "        vertical-align: top;\n",
       "    }\n",
       "\n",
       "    .dataframe thead th {\n",
       "        text-align: right;\n",
       "    }\n",
       "</style>\n",
       "<table border=\"1\" class=\"dataframe\">\n",
       "  <thead>\n",
       "    <tr style=\"text-align: right;\">\n",
       "      <th></th>\n",
       "      <th>Lat</th>\n",
       "      <th>Lon</th>\n",
       "    </tr>\n",
       "    <tr>\n",
       "      <th>Subregion 1</th>\n",
       "      <th></th>\n",
       "      <th></th>\n",
       "    </tr>\n",
       "  </thead>\n",
       "  <tbody>\n",
       "    <tr>\n",
       "      <th>049 1 Suur-Leppävaara</th>\n",
       "      <td>60.2151</td>\n",
       "      <td>24.8092</td>\n",
       "    </tr>\n",
       "    <tr>\n",
       "      <th>049 2 Suur-Tapiola</th>\n",
       "      <td>60.1775</td>\n",
       "      <td>24.8131</td>\n",
       "    </tr>\n",
       "    <tr>\n",
       "      <th>049 3 Suur-Matinkylä</th>\n",
       "      <td>60.1627</td>\n",
       "      <td>24.7528</td>\n",
       "    </tr>\n",
       "    <tr>\n",
       "      <th>049 4 Suur-Espoonlahti</th>\n",
       "      <td>60.1760</td>\n",
       "      <td>24.6458</td>\n",
       "    </tr>\n",
       "    <tr>\n",
       "      <th>049 5 Suur-Kauklahti</th>\n",
       "      <td>60.1866</td>\n",
       "      <td>24.5896</td>\n",
       "    </tr>\n",
       "    <tr>\n",
       "      <th>049 6 Vanha-Espoo</th>\n",
       "      <td>60.2016</td>\n",
       "      <td>24.6627</td>\n",
       "    </tr>\n",
       "    <tr>\n",
       "      <th>049 7 Pohjois-Espoo</th>\n",
       "      <td>60.2924</td>\n",
       "      <td>24.5316</td>\n",
       "    </tr>\n",
       "    <tr>\n",
       "      <th>1 Eteläinen suurpiiri</th>\n",
       "      <td>60.1681</td>\n",
       "      <td>24.9306</td>\n",
       "    </tr>\n",
       "    <tr>\n",
       "      <th>2 Läntinen suurpiiri</th>\n",
       "      <td>60.1946</td>\n",
       "      <td>24.8774</td>\n",
       "    </tr>\n",
       "    <tr>\n",
       "      <th>3 Keskinen suurpiiri</th>\n",
       "      <td>60.1834</td>\n",
       "      <td>24.9506</td>\n",
       "    </tr>\n",
       "    <tr>\n",
       "      <th>4 Pohjoinen suurpiiri</th>\n",
       "      <td>60.2325</td>\n",
       "      <td>24.9178</td>\n",
       "    </tr>\n",
       "    <tr>\n",
       "      <th>5 Koillinen suurpiiri</th>\n",
       "      <td>60.2353</td>\n",
       "      <td>25.0812</td>\n",
       "    </tr>\n",
       "    <tr>\n",
       "      <th>6 Kaakkoinen suurpiiri</th>\n",
       "      <td>60.1867</td>\n",
       "      <td>25.0002</td>\n",
       "    </tr>\n",
       "    <tr>\n",
       "      <th>7 Itäinen suurpiiri</th>\n",
       "      <td>60.2240</td>\n",
       "      <td>25.0537</td>\n",
       "    </tr>\n",
       "    <tr>\n",
       "      <th>8 Östersundomin suurpiiri</th>\n",
       "      <td>60.2144</td>\n",
       "      <td>25.1667</td>\n",
       "    </tr>\n",
       "  </tbody>\n",
       "</table>\n",
       "</div>"
      ],
      "text/plain": [
       "                                Lat      Lon\n",
       "Subregion 1                                 \n",
       "049 1 Suur-Leppävaara       60.2151  24.8092\n",
       "049 2 Suur-Tapiola          60.1775  24.8131\n",
       "049 3 Suur-Matinkylä        60.1627  24.7528\n",
       "049 4 Suur-Espoonlahti      60.1760  24.6458\n",
       "049 5 Suur-Kauklahti        60.1866  24.5896\n",
       "049 6 Vanha-Espoo           60.2016  24.6627\n",
       "049 7 Pohjois-Espoo         60.2924  24.5316\n",
       "1 Eteläinen suurpiiri       60.1681  24.9306\n",
       "2 Läntinen suurpiiri        60.1946  24.8774\n",
       "3 Keskinen suurpiiri        60.1834  24.9506\n",
       "4 Pohjoinen suurpiiri       60.2325  24.9178\n",
       "5 Koillinen suurpiiri       60.2353  25.0812\n",
       "6 Kaakkoinen suurpiiri      60.1867  25.0002\n",
       "7 Itäinen suurpiiri         60.2240  25.0537\n",
       "8 Östersundomin suurpiiri   60.2144  25.1667"
      ]
     },
     "execution_count": 29,
     "metadata": {},
     "output_type": "execute_result"
    }
   ],
   "source": [
    "# Make region name unique with corresponding lat, lon\n",
    "lat_lon = lat_lon.groupby(\"Subregion 1\").agg({\"Lat\": \"first\", \"Lon\": \"first\"})\n",
    "lat_lon"
   ]
  },
  {
   "cell_type": "code",
   "execution_count": 30,
   "id": "5ae0612e-075d-4993-879a-4fe4a0b8adda",
   "metadata": {
    "tags": []
   },
   "outputs": [
    {
     "data": {
      "text/html": [
       "<div>\n",
       "<style scoped>\n",
       "    .dataframe tbody tr th:only-of-type {\n",
       "        vertical-align: middle;\n",
       "    }\n",
       "\n",
       "    .dataframe tbody tr th {\n",
       "        vertical-align: top;\n",
       "    }\n",
       "\n",
       "    .dataframe thead th {\n",
       "        text-align: right;\n",
       "    }\n",
       "</style>\n",
       "<table border=\"1\" class=\"dataframe\">\n",
       "  <thead>\n",
       "    <tr style=\"text-align: right;\">\n",
       "      <th></th>\n",
       "      <th>Subregion 1</th>\n",
       "      <th>Lat</th>\n",
       "      <th>Lon</th>\n",
       "    </tr>\n",
       "  </thead>\n",
       "  <tbody>\n",
       "    <tr>\n",
       "      <th>0</th>\n",
       "      <td>049 1 Suur-Leppävaara</td>\n",
       "      <td>60.2151</td>\n",
       "      <td>24.8092</td>\n",
       "    </tr>\n",
       "    <tr>\n",
       "      <th>1</th>\n",
       "      <td>049 2 Suur-Tapiola</td>\n",
       "      <td>60.1775</td>\n",
       "      <td>24.8131</td>\n",
       "    </tr>\n",
       "    <tr>\n",
       "      <th>2</th>\n",
       "      <td>049 3 Suur-Matinkylä</td>\n",
       "      <td>60.1627</td>\n",
       "      <td>24.7528</td>\n",
       "    </tr>\n",
       "    <tr>\n",
       "      <th>3</th>\n",
       "      <td>049 4 Suur-Espoonlahti</td>\n",
       "      <td>60.1760</td>\n",
       "      <td>24.6458</td>\n",
       "    </tr>\n",
       "    <tr>\n",
       "      <th>4</th>\n",
       "      <td>049 5 Suur-Kauklahti</td>\n",
       "      <td>60.1866</td>\n",
       "      <td>24.5896</td>\n",
       "    </tr>\n",
       "    <tr>\n",
       "      <th>5</th>\n",
       "      <td>049 6 Vanha-Espoo</td>\n",
       "      <td>60.2016</td>\n",
       "      <td>24.6627</td>\n",
       "    </tr>\n",
       "    <tr>\n",
       "      <th>6</th>\n",
       "      <td>049 7 Pohjois-Espoo</td>\n",
       "      <td>60.2924</td>\n",
       "      <td>24.5316</td>\n",
       "    </tr>\n",
       "    <tr>\n",
       "      <th>7</th>\n",
       "      <td>1 Eteläinen suurpiiri</td>\n",
       "      <td>60.1681</td>\n",
       "      <td>24.9306</td>\n",
       "    </tr>\n",
       "    <tr>\n",
       "      <th>8</th>\n",
       "      <td>2 Läntinen suurpiiri</td>\n",
       "      <td>60.1946</td>\n",
       "      <td>24.8774</td>\n",
       "    </tr>\n",
       "    <tr>\n",
       "      <th>9</th>\n",
       "      <td>3 Keskinen suurpiiri</td>\n",
       "      <td>60.1834</td>\n",
       "      <td>24.9506</td>\n",
       "    </tr>\n",
       "    <tr>\n",
       "      <th>10</th>\n",
       "      <td>4 Pohjoinen suurpiiri</td>\n",
       "      <td>60.2325</td>\n",
       "      <td>24.9178</td>\n",
       "    </tr>\n",
       "    <tr>\n",
       "      <th>11</th>\n",
       "      <td>5 Koillinen suurpiiri</td>\n",
       "      <td>60.2353</td>\n",
       "      <td>25.0812</td>\n",
       "    </tr>\n",
       "    <tr>\n",
       "      <th>12</th>\n",
       "      <td>6 Kaakkoinen suurpiiri</td>\n",
       "      <td>60.1867</td>\n",
       "      <td>25.0002</td>\n",
       "    </tr>\n",
       "    <tr>\n",
       "      <th>13</th>\n",
       "      <td>7 Itäinen suurpiiri</td>\n",
       "      <td>60.2240</td>\n",
       "      <td>25.0537</td>\n",
       "    </tr>\n",
       "    <tr>\n",
       "      <th>14</th>\n",
       "      <td>8 Östersundomin suurpiiri</td>\n",
       "      <td>60.2144</td>\n",
       "      <td>25.1667</td>\n",
       "    </tr>\n",
       "  </tbody>\n",
       "</table>\n",
       "</div>"
      ],
      "text/plain": [
       "                   Subregion 1      Lat      Lon\n",
       "0        049 1 Suur-Leppävaara  60.2151  24.8092\n",
       "1           049 2 Suur-Tapiola  60.1775  24.8131\n",
       "2         049 3 Suur-Matinkylä  60.1627  24.7528\n",
       "3       049 4 Suur-Espoonlahti  60.1760  24.6458\n",
       "4         049 5 Suur-Kauklahti  60.1866  24.5896\n",
       "5            049 6 Vanha-Espoo  60.2016  24.6627\n",
       "6          049 7 Pohjois-Espoo  60.2924  24.5316\n",
       "7       1 Eteläinen suurpiiri   60.1681  24.9306\n",
       "8        2 Läntinen suurpiiri   60.1946  24.8774\n",
       "9        3 Keskinen suurpiiri   60.1834  24.9506\n",
       "10      4 Pohjoinen suurpiiri   60.2325  24.9178\n",
       "11      5 Koillinen suurpiiri   60.2353  25.0812\n",
       "12     6 Kaakkoinen suurpiiri   60.1867  25.0002\n",
       "13        7 Itäinen suurpiiri   60.2240  25.0537\n",
       "14  8 Östersundomin suurpiiri   60.2144  25.1667"
      ]
     },
     "execution_count": 30,
     "metadata": {},
     "output_type": "execute_result"
    }
   ],
   "source": [
    "# Reset index to get 'Subregion 1' column\n",
    "lat_lon.reset_index(inplace=True)\n",
    "\n",
    "lat_lon"
   ]
  },
  {
   "cell_type": "code",
   "execution_count": 31,
   "id": "dbac7d59-97ba-4a36-9a42-e510674eed35",
   "metadata": {
    "tags": []
   },
   "outputs": [
    {
     "data": {
      "text/html": [
       "<div>\n",
       "<style scoped>\n",
       "    .dataframe tbody tr th:only-of-type {\n",
       "        vertical-align: middle;\n",
       "    }\n",
       "\n",
       "    .dataframe tbody tr th {\n",
       "        vertical-align: top;\n",
       "    }\n",
       "\n",
       "    .dataframe thead th {\n",
       "        text-align: right;\n",
       "    }\n",
       "</style>\n",
       "<table border=\"1\" class=\"dataframe\">\n",
       "  <thead>\n",
       "    <tr style=\"text-align: right;\">\n",
       "      <th></th>\n",
       "      <th>Subregion 1</th>\n",
       "      <th>Lat</th>\n",
       "      <th>Lon</th>\n",
       "    </tr>\n",
       "  </thead>\n",
       "  <tbody>\n",
       "    <tr>\n",
       "      <th>0</th>\n",
       "      <td>Suur-Leppävaara</td>\n",
       "      <td>60.2151</td>\n",
       "      <td>24.8092</td>\n",
       "    </tr>\n",
       "    <tr>\n",
       "      <th>1</th>\n",
       "      <td>Suur-Tapiola</td>\n",
       "      <td>60.1775</td>\n",
       "      <td>24.8131</td>\n",
       "    </tr>\n",
       "    <tr>\n",
       "      <th>2</th>\n",
       "      <td>Suur-Matinkylä</td>\n",
       "      <td>60.1627</td>\n",
       "      <td>24.7528</td>\n",
       "    </tr>\n",
       "    <tr>\n",
       "      <th>3</th>\n",
       "      <td>Suur-Espoonlahti</td>\n",
       "      <td>60.1760</td>\n",
       "      <td>24.6458</td>\n",
       "    </tr>\n",
       "    <tr>\n",
       "      <th>4</th>\n",
       "      <td>Suur-Kauklahti</td>\n",
       "      <td>60.1866</td>\n",
       "      <td>24.5896</td>\n",
       "    </tr>\n",
       "    <tr>\n",
       "      <th>5</th>\n",
       "      <td>Vanha-Espoo</td>\n",
       "      <td>60.2016</td>\n",
       "      <td>24.6627</td>\n",
       "    </tr>\n",
       "    <tr>\n",
       "      <th>6</th>\n",
       "      <td>Pohjois-Espoo</td>\n",
       "      <td>60.2924</td>\n",
       "      <td>24.5316</td>\n",
       "    </tr>\n",
       "    <tr>\n",
       "      <th>7</th>\n",
       "      <td>Eteläinen suurpiiri</td>\n",
       "      <td>60.1681</td>\n",
       "      <td>24.9306</td>\n",
       "    </tr>\n",
       "    <tr>\n",
       "      <th>8</th>\n",
       "      <td>Läntinen suurpiiri</td>\n",
       "      <td>60.1946</td>\n",
       "      <td>24.8774</td>\n",
       "    </tr>\n",
       "    <tr>\n",
       "      <th>9</th>\n",
       "      <td>Keskinen suurpiiri</td>\n",
       "      <td>60.1834</td>\n",
       "      <td>24.9506</td>\n",
       "    </tr>\n",
       "    <tr>\n",
       "      <th>10</th>\n",
       "      <td>Pohjoinen suurpiiri</td>\n",
       "      <td>60.2325</td>\n",
       "      <td>24.9178</td>\n",
       "    </tr>\n",
       "    <tr>\n",
       "      <th>11</th>\n",
       "      <td>Koillinen suurpiiri</td>\n",
       "      <td>60.2353</td>\n",
       "      <td>25.0812</td>\n",
       "    </tr>\n",
       "    <tr>\n",
       "      <th>12</th>\n",
       "      <td>Kaakkoinen suurpiiri</td>\n",
       "      <td>60.1867</td>\n",
       "      <td>25.0002</td>\n",
       "    </tr>\n",
       "    <tr>\n",
       "      <th>13</th>\n",
       "      <td>Itäinen suurpiiri</td>\n",
       "      <td>60.2240</td>\n",
       "      <td>25.0537</td>\n",
       "    </tr>\n",
       "    <tr>\n",
       "      <th>14</th>\n",
       "      <td>Östersundomin suurpiiri</td>\n",
       "      <td>60.2144</td>\n",
       "      <td>25.1667</td>\n",
       "    </tr>\n",
       "  </tbody>\n",
       "</table>\n",
       "</div>"
      ],
      "text/plain": [
       "                  Subregion 1      Lat      Lon\n",
       "0             Suur-Leppävaara  60.2151  24.8092\n",
       "1                Suur-Tapiola  60.1775  24.8131\n",
       "2              Suur-Matinkylä  60.1627  24.7528\n",
       "3            Suur-Espoonlahti  60.1760  24.6458\n",
       "4              Suur-Kauklahti  60.1866  24.5896\n",
       "5                 Vanha-Espoo  60.2016  24.6627\n",
       "6               Pohjois-Espoo  60.2924  24.5316\n",
       "7        Eteläinen suurpiiri   60.1681  24.9306\n",
       "8         Läntinen suurpiiri   60.1946  24.8774\n",
       "9         Keskinen suurpiiri   60.1834  24.9506\n",
       "10       Pohjoinen suurpiiri   60.2325  24.9178\n",
       "11       Koillinen suurpiiri   60.2353  25.0812\n",
       "12      Kaakkoinen suurpiiri   60.1867  25.0002\n",
       "13         Itäinen suurpiiri   60.2240  25.0537\n",
       "14   Östersundomin suurpiiri   60.2144  25.1667"
      ]
     },
     "execution_count": 31,
     "metadata": {},
     "output_type": "execute_result"
    }
   ],
   "source": [
    "# Remove numbers in 'Subregion 1' column\n",
    "import re\n",
    "\n",
    "areas = []\n",
    "for i, row in lat_lon.iterrows():\n",
    "    area = re.sub(r'\\d+', '',str(row['Subregion 1']))\n",
    "    areas.append(area)\n",
    "lat_lon['Subregion 1'] = areas\n",
    "\n",
    "lat_lon"
   ]
  },
  {
   "cell_type": "markdown",
   "id": "d36d0191-e2df-4707-8875-c12139b7bd94",
   "metadata": {},
   "source": [
    "## Process population datasets"
   ]
  },
  {
   "cell_type": "code",
   "execution_count": 32,
   "id": "5edf656b-39ab-4738-a10a-da703d450ce8",
   "metadata": {
    "tags": []
   },
   "outputs": [],
   "source": [
    "# Change column names\n",
    "espoo_pop = espoo_pop.rename(columns={'Unnamed: 0': 'Subregion 1'})\n",
    "hel_pop = hel_pop.rename(columns={'Unnamed: 0': 'Subregion 1', 'Total':'Total population'})"
   ]
  },
  {
   "cell_type": "markdown",
   "id": "810a6331-c99a-4b1a-945d-23a103a4d45b",
   "metadata": {},
   "source": [
    "## Combine datasets"
   ]
  },
  {
   "cell_type": "code",
   "execution_count": 33,
   "id": "bed9c4d9-925e-4e62-ac80-807b372d97b9",
   "metadata": {
    "tags": []
   },
   "outputs": [],
   "source": [
    "# Join 2 population datasets\n",
    "merged_pop = pd.concat([espoo_pop, hel_pop], ignore_index=True)"
   ]
  },
  {
   "cell_type": "code",
   "execution_count": 34,
   "id": "ab1d9d40",
   "metadata": {},
   "outputs": [
    {
     "data": {
      "text/html": [
       "<div>\n",
       "<style scoped>\n",
       "    .dataframe tbody tr th:only-of-type {\n",
       "        vertical-align: middle;\n",
       "    }\n",
       "\n",
       "    .dataframe tbody tr th {\n",
       "        vertical-align: top;\n",
       "    }\n",
       "\n",
       "    .dataframe thead th {\n",
       "        text-align: right;\n",
       "    }\n",
       "</style>\n",
       "<table border=\"1\" class=\"dataframe\">\n",
       "  <thead>\n",
       "    <tr style=\"text-align: right;\">\n",
       "      <th></th>\n",
       "      <th>Subregion 1</th>\n",
       "      <th>0-6</th>\n",
       "      <th>7-12</th>\n",
       "      <th>13-15</th>\n",
       "      <th>16-19</th>\n",
       "      <th>20-29</th>\n",
       "      <th>30-39</th>\n",
       "      <th>40-49</th>\n",
       "      <th>50-64</th>\n",
       "      <th>65-74</th>\n",
       "      <th>75-84</th>\n",
       "      <th>Over 85</th>\n",
       "      <th>Total population</th>\n",
       "    </tr>\n",
       "  </thead>\n",
       "  <tbody>\n",
       "    <tr>\n",
       "      <th>0</th>\n",
       "      <td>049 1 Suur-Leppävaara</td>\n",
       "      <td>6283</td>\n",
       "      <td>5708</td>\n",
       "      <td>2782</td>\n",
       "      <td>3357</td>\n",
       "      <td>10341</td>\n",
       "      <td>12904</td>\n",
       "      <td>10528</td>\n",
       "      <td>12331</td>\n",
       "      <td>5736</td>\n",
       "      <td>3516</td>\n",
       "      <td>1138</td>\n",
       "      <td>74624</td>\n",
       "    </tr>\n",
       "    <tr>\n",
       "      <th>1</th>\n",
       "      <td>049 2 Suur-Tapiola</td>\n",
       "      <td>3610</td>\n",
       "      <td>3573</td>\n",
       "      <td>1731</td>\n",
       "      <td>2247</td>\n",
       "      <td>9092</td>\n",
       "      <td>7814</td>\n",
       "      <td>6827</td>\n",
       "      <td>8178</td>\n",
       "      <td>4659</td>\n",
       "      <td>3120</td>\n",
       "      <td>1139</td>\n",
       "      <td>51990</td>\n",
       "    </tr>\n",
       "    <tr>\n",
       "      <th>2</th>\n",
       "      <td>049 3 Suur-Matinkylä</td>\n",
       "      <td>3258</td>\n",
       "      <td>3112</td>\n",
       "      <td>1416</td>\n",
       "      <td>1766</td>\n",
       "      <td>6192</td>\n",
       "      <td>7508</td>\n",
       "      <td>5848</td>\n",
       "      <td>6980</td>\n",
       "      <td>4134</td>\n",
       "      <td>2802</td>\n",
       "      <td>715</td>\n",
       "      <td>43731</td>\n",
       "    </tr>\n",
       "    <tr>\n",
       "      <th>3</th>\n",
       "      <td>049 4 Suur-Espoonlahti</td>\n",
       "      <td>4457</td>\n",
       "      <td>4837</td>\n",
       "      <td>2442</td>\n",
       "      <td>2904</td>\n",
       "      <td>5192</td>\n",
       "      <td>8040</td>\n",
       "      <td>8528</td>\n",
       "      <td>11034</td>\n",
       "      <td>5621</td>\n",
       "      <td>3490</td>\n",
       "      <td>888</td>\n",
       "      <td>57433</td>\n",
       "    </tr>\n",
       "    <tr>\n",
       "      <th>4</th>\n",
       "      <td>049 5 Suur-Kauklahti</td>\n",
       "      <td>1277</td>\n",
       "      <td>1299</td>\n",
       "      <td>604</td>\n",
       "      <td>642</td>\n",
       "      <td>1187</td>\n",
       "      <td>1980</td>\n",
       "      <td>2083</td>\n",
       "      <td>1978</td>\n",
       "      <td>650</td>\n",
       "      <td>312</td>\n",
       "      <td>107</td>\n",
       "      <td>12119</td>\n",
       "    </tr>\n",
       "    <tr>\n",
       "      <th>5</th>\n",
       "      <td>049 6 Vanha-Espoo</td>\n",
       "      <td>3602</td>\n",
       "      <td>3412</td>\n",
       "      <td>1669</td>\n",
       "      <td>2008</td>\n",
       "      <td>4717</td>\n",
       "      <td>6486</td>\n",
       "      <td>6208</td>\n",
       "      <td>7638</td>\n",
       "      <td>3240</td>\n",
       "      <td>1542</td>\n",
       "      <td>333</td>\n",
       "      <td>40855</td>\n",
       "    </tr>\n",
       "    <tr>\n",
       "      <th>6</th>\n",
       "      <td>049 7 Pohjois-Espoo</td>\n",
       "      <td>1076</td>\n",
       "      <td>1230</td>\n",
       "      <td>606</td>\n",
       "      <td>710</td>\n",
       "      <td>828</td>\n",
       "      <td>1560</td>\n",
       "      <td>1944</td>\n",
       "      <td>2463</td>\n",
       "      <td>870</td>\n",
       "      <td>401</td>\n",
       "      <td>110</td>\n",
       "      <td>11798</td>\n",
       "    </tr>\n",
       "    <tr>\n",
       "      <th>7</th>\n",
       "      <td>049 999 Muut</td>\n",
       "      <td>167</td>\n",
       "      <td>229</td>\n",
       "      <td>188</td>\n",
       "      <td>262</td>\n",
       "      <td>894</td>\n",
       "      <td>867</td>\n",
       "      <td>680</td>\n",
       "      <td>650</td>\n",
       "      <td>228</td>\n",
       "      <td>181</td>\n",
       "      <td>236</td>\n",
       "      <td>4582</td>\n",
       "    </tr>\n",
       "    <tr>\n",
       "      <th>8</th>\n",
       "      <td>091 1 Eteläinen suurpiiri</td>\n",
       "      <td>7216</td>\n",
       "      <td>5968</td>\n",
       "      <td>2650</td>\n",
       "      <td>3536</td>\n",
       "      <td>22791</td>\n",
       "      <td>22230</td>\n",
       "      <td>16498</td>\n",
       "      <td>19312</td>\n",
       "      <td>11020</td>\n",
       "      <td>7700</td>\n",
       "      <td>2236</td>\n",
       "      <td>121157</td>\n",
       "    </tr>\n",
       "    <tr>\n",
       "      <th>9</th>\n",
       "      <td>091 2 Läntinen suurpiiri</td>\n",
       "      <td>7419</td>\n",
       "      <td>6238</td>\n",
       "      <td>2858</td>\n",
       "      <td>3919</td>\n",
       "      <td>17570</td>\n",
       "      <td>20295</td>\n",
       "      <td>14285</td>\n",
       "      <td>18713</td>\n",
       "      <td>10898</td>\n",
       "      <td>6956</td>\n",
       "      <td>2894</td>\n",
       "      <td>112045</td>\n",
       "    </tr>\n",
       "    <tr>\n",
       "      <th>10</th>\n",
       "      <td>091 3 Keskinen suurpiiri</td>\n",
       "      <td>5160</td>\n",
       "      <td>3718</td>\n",
       "      <td>1436</td>\n",
       "      <td>2585</td>\n",
       "      <td>22512</td>\n",
       "      <td>22524</td>\n",
       "      <td>12902</td>\n",
       "      <td>13745</td>\n",
       "      <td>8038</td>\n",
       "      <td>4446</td>\n",
       "      <td>1574</td>\n",
       "      <td>98640</td>\n",
       "    </tr>\n",
       "    <tr>\n",
       "      <th>11</th>\n",
       "      <td>091 4 Pohjoinen suurpiiri</td>\n",
       "      <td>3293</td>\n",
       "      <td>3401</td>\n",
       "      <td>1584</td>\n",
       "      <td>1901</td>\n",
       "      <td>3599</td>\n",
       "      <td>6071</td>\n",
       "      <td>6227</td>\n",
       "      <td>8152</td>\n",
       "      <td>4645</td>\n",
       "      <td>2902</td>\n",
       "      <td>1198</td>\n",
       "      <td>42973</td>\n",
       "    </tr>\n",
       "    <tr>\n",
       "      <th>12</th>\n",
       "      <td>091 5 Koillinen suurpiiri</td>\n",
       "      <td>7902</td>\n",
       "      <td>7256</td>\n",
       "      <td>3372</td>\n",
       "      <td>4117</td>\n",
       "      <td>11639</td>\n",
       "      <td>16035</td>\n",
       "      <td>13163</td>\n",
       "      <td>18333</td>\n",
       "      <td>10076</td>\n",
       "      <td>5648</td>\n",
       "      <td>1810</td>\n",
       "      <td>99351</td>\n",
       "    </tr>\n",
       "    <tr>\n",
       "      <th>13</th>\n",
       "      <td>091 6 Kaakkoinen suurpiiri</td>\n",
       "      <td>4296</td>\n",
       "      <td>3736</td>\n",
       "      <td>1606</td>\n",
       "      <td>2014</td>\n",
       "      <td>7089</td>\n",
       "      <td>9751</td>\n",
       "      <td>7818</td>\n",
       "      <td>10321</td>\n",
       "      <td>5574</td>\n",
       "      <td>3323</td>\n",
       "      <td>1200</td>\n",
       "      <td>56728</td>\n",
       "    </tr>\n",
       "    <tr>\n",
       "      <th>14</th>\n",
       "      <td>091 7 Itäinen suurpiiri</td>\n",
       "      <td>8267</td>\n",
       "      <td>7428</td>\n",
       "      <td>3673</td>\n",
       "      <td>4772</td>\n",
       "      <td>12901</td>\n",
       "      <td>16724</td>\n",
       "      <td>14277</td>\n",
       "      <td>22629</td>\n",
       "      <td>11606</td>\n",
       "      <td>7579</td>\n",
       "      <td>2997</td>\n",
       "      <td>112853</td>\n",
       "    </tr>\n",
       "    <tr>\n",
       "      <th>15</th>\n",
       "      <td>091 8 Östersundomin suurpiiri</td>\n",
       "      <td>82</td>\n",
       "      <td>137</td>\n",
       "      <td>95</td>\n",
       "      <td>153</td>\n",
       "      <td>129</td>\n",
       "      <td>117</td>\n",
       "      <td>261</td>\n",
       "      <td>595</td>\n",
       "      <td>135</td>\n",
       "      <td>90</td>\n",
       "      <td>15</td>\n",
       "      <td>1809</td>\n",
       "    </tr>\n",
       "    <tr>\n",
       "      <th>16</th>\n",
       "      <td>091 999 Muut</td>\n",
       "      <td>395</td>\n",
       "      <td>557</td>\n",
       "      <td>352</td>\n",
       "      <td>558</td>\n",
       "      <td>2930</td>\n",
       "      <td>2777</td>\n",
       "      <td>1930</td>\n",
       "      <td>1980</td>\n",
       "      <td>696</td>\n",
       "      <td>372</td>\n",
       "      <td>354</td>\n",
       "      <td>12901</td>\n",
       "    </tr>\n",
       "  </tbody>\n",
       "</table>\n",
       "</div>"
      ],
      "text/plain": [
       "                      Subregion 1   0-6  7-12  13-15  16-19  20-29  30-39  \\\n",
       "0           049 1 Suur-Leppävaara  6283  5708   2782   3357  10341  12904   \n",
       "1              049 2 Suur-Tapiola  3610  3573   1731   2247   9092   7814   \n",
       "2            049 3 Suur-Matinkylä  3258  3112   1416   1766   6192   7508   \n",
       "3          049 4 Suur-Espoonlahti  4457  4837   2442   2904   5192   8040   \n",
       "4            049 5 Suur-Kauklahti  1277  1299    604    642   1187   1980   \n",
       "5               049 6 Vanha-Espoo  3602  3412   1669   2008   4717   6486   \n",
       "6             049 7 Pohjois-Espoo  1076  1230    606    710    828   1560   \n",
       "7                    049 999 Muut   167   229    188    262    894    867   \n",
       "8       091 1 Eteläinen suurpiiri  7216  5968   2650   3536  22791  22230   \n",
       "9        091 2 Läntinen suurpiiri  7419  6238   2858   3919  17570  20295   \n",
       "10       091 3 Keskinen suurpiiri  5160  3718   1436   2585  22512  22524   \n",
       "11      091 4 Pohjoinen suurpiiri  3293  3401   1584   1901   3599   6071   \n",
       "12      091 5 Koillinen suurpiiri  7902  7256   3372   4117  11639  16035   \n",
       "13     091 6 Kaakkoinen suurpiiri  4296  3736   1606   2014   7089   9751   \n",
       "14        091 7 Itäinen suurpiiri  8267  7428   3673   4772  12901  16724   \n",
       "15  091 8 Östersundomin suurpiiri    82   137     95    153    129    117   \n",
       "16                   091 999 Muut   395   557    352    558   2930   2777   \n",
       "\n",
       "    40-49  50-64  65-74  75-84  Over 85  Total population  \n",
       "0   10528  12331   5736   3516     1138             74624  \n",
       "1    6827   8178   4659   3120     1139             51990  \n",
       "2    5848   6980   4134   2802      715             43731  \n",
       "3    8528  11034   5621   3490      888             57433  \n",
       "4    2083   1978    650    312      107             12119  \n",
       "5    6208   7638   3240   1542      333             40855  \n",
       "6    1944   2463    870    401      110             11798  \n",
       "7     680    650    228    181      236              4582  \n",
       "8   16498  19312  11020   7700     2236            121157  \n",
       "9   14285  18713  10898   6956     2894            112045  \n",
       "10  12902  13745   8038   4446     1574             98640  \n",
       "11   6227   8152   4645   2902     1198             42973  \n",
       "12  13163  18333  10076   5648     1810             99351  \n",
       "13   7818  10321   5574   3323     1200             56728  \n",
       "14  14277  22629  11606   7579     2997            112853  \n",
       "15    261    595    135     90       15              1809  \n",
       "16   1930   1980    696    372      354             12901  "
      ]
     },
     "execution_count": 34,
     "metadata": {},
     "output_type": "execute_result"
    }
   ],
   "source": [
    "merged_pop"
   ]
  },
  {
   "cell_type": "code",
   "execution_count": 35,
   "id": "8145d3e5-0a02-4ea2-b01f-d51c9a24ac0d",
   "metadata": {
    "tags": []
   },
   "outputs": [],
   "source": [
    "# Remove numbers in 'Subregion 1' column\n",
    "import re\n",
    "\n",
    "areas = []\n",
    "for i, row in merged_pop.iterrows():\n",
    "    area = re.sub(r'\\d+', '',str(row['Subregion 1']))\n",
    "    areas.append(area)\n",
    "merged_pop['Subregion 1'] = areas"
   ]
  },
  {
   "cell_type": "code",
   "execution_count": 36,
   "id": "2fdfd658-12fb-43be-b98b-1af4b8a29f8d",
   "metadata": {
    "tags": []
   },
   "outputs": [],
   "source": [
    "# Filter out 'Muut' rows (other regions)\n",
    "merged_pop = merged_pop[~merged_pop['Subregion 1'].str.contains('Muut')]"
   ]
  },
  {
   "cell_type": "code",
   "execution_count": 37,
   "id": "f4f515f2",
   "metadata": {},
   "outputs": [
    {
     "data": {
      "text/html": [
       "<div>\n",
       "<style scoped>\n",
       "    .dataframe tbody tr th:only-of-type {\n",
       "        vertical-align: middle;\n",
       "    }\n",
       "\n",
       "    .dataframe tbody tr th {\n",
       "        vertical-align: top;\n",
       "    }\n",
       "\n",
       "    .dataframe thead th {\n",
       "        text-align: right;\n",
       "    }\n",
       "</style>\n",
       "<table border=\"1\" class=\"dataframe\">\n",
       "  <thead>\n",
       "    <tr style=\"text-align: right;\">\n",
       "      <th></th>\n",
       "      <th>Subregion 1</th>\n",
       "      <th>0-6</th>\n",
       "      <th>7-12</th>\n",
       "      <th>13-15</th>\n",
       "      <th>16-19</th>\n",
       "      <th>20-29</th>\n",
       "      <th>30-39</th>\n",
       "      <th>40-49</th>\n",
       "      <th>50-64</th>\n",
       "      <th>65-74</th>\n",
       "      <th>75-84</th>\n",
       "      <th>Over 85</th>\n",
       "      <th>Total population</th>\n",
       "    </tr>\n",
       "  </thead>\n",
       "  <tbody>\n",
       "    <tr>\n",
       "      <th>0</th>\n",
       "      <td>Suur-Leppävaara</td>\n",
       "      <td>6283</td>\n",
       "      <td>5708</td>\n",
       "      <td>2782</td>\n",
       "      <td>3357</td>\n",
       "      <td>10341</td>\n",
       "      <td>12904</td>\n",
       "      <td>10528</td>\n",
       "      <td>12331</td>\n",
       "      <td>5736</td>\n",
       "      <td>3516</td>\n",
       "      <td>1138</td>\n",
       "      <td>74624</td>\n",
       "    </tr>\n",
       "    <tr>\n",
       "      <th>1</th>\n",
       "      <td>Suur-Tapiola</td>\n",
       "      <td>3610</td>\n",
       "      <td>3573</td>\n",
       "      <td>1731</td>\n",
       "      <td>2247</td>\n",
       "      <td>9092</td>\n",
       "      <td>7814</td>\n",
       "      <td>6827</td>\n",
       "      <td>8178</td>\n",
       "      <td>4659</td>\n",
       "      <td>3120</td>\n",
       "      <td>1139</td>\n",
       "      <td>51990</td>\n",
       "    </tr>\n",
       "    <tr>\n",
       "      <th>2</th>\n",
       "      <td>Suur-Matinkylä</td>\n",
       "      <td>3258</td>\n",
       "      <td>3112</td>\n",
       "      <td>1416</td>\n",
       "      <td>1766</td>\n",
       "      <td>6192</td>\n",
       "      <td>7508</td>\n",
       "      <td>5848</td>\n",
       "      <td>6980</td>\n",
       "      <td>4134</td>\n",
       "      <td>2802</td>\n",
       "      <td>715</td>\n",
       "      <td>43731</td>\n",
       "    </tr>\n",
       "    <tr>\n",
       "      <th>3</th>\n",
       "      <td>Suur-Espoonlahti</td>\n",
       "      <td>4457</td>\n",
       "      <td>4837</td>\n",
       "      <td>2442</td>\n",
       "      <td>2904</td>\n",
       "      <td>5192</td>\n",
       "      <td>8040</td>\n",
       "      <td>8528</td>\n",
       "      <td>11034</td>\n",
       "      <td>5621</td>\n",
       "      <td>3490</td>\n",
       "      <td>888</td>\n",
       "      <td>57433</td>\n",
       "    </tr>\n",
       "    <tr>\n",
       "      <th>4</th>\n",
       "      <td>Suur-Kauklahti</td>\n",
       "      <td>1277</td>\n",
       "      <td>1299</td>\n",
       "      <td>604</td>\n",
       "      <td>642</td>\n",
       "      <td>1187</td>\n",
       "      <td>1980</td>\n",
       "      <td>2083</td>\n",
       "      <td>1978</td>\n",
       "      <td>650</td>\n",
       "      <td>312</td>\n",
       "      <td>107</td>\n",
       "      <td>12119</td>\n",
       "    </tr>\n",
       "    <tr>\n",
       "      <th>5</th>\n",
       "      <td>Vanha-Espoo</td>\n",
       "      <td>3602</td>\n",
       "      <td>3412</td>\n",
       "      <td>1669</td>\n",
       "      <td>2008</td>\n",
       "      <td>4717</td>\n",
       "      <td>6486</td>\n",
       "      <td>6208</td>\n",
       "      <td>7638</td>\n",
       "      <td>3240</td>\n",
       "      <td>1542</td>\n",
       "      <td>333</td>\n",
       "      <td>40855</td>\n",
       "    </tr>\n",
       "    <tr>\n",
       "      <th>6</th>\n",
       "      <td>Pohjois-Espoo</td>\n",
       "      <td>1076</td>\n",
       "      <td>1230</td>\n",
       "      <td>606</td>\n",
       "      <td>710</td>\n",
       "      <td>828</td>\n",
       "      <td>1560</td>\n",
       "      <td>1944</td>\n",
       "      <td>2463</td>\n",
       "      <td>870</td>\n",
       "      <td>401</td>\n",
       "      <td>110</td>\n",
       "      <td>11798</td>\n",
       "    </tr>\n",
       "    <tr>\n",
       "      <th>8</th>\n",
       "      <td>Eteläinen suurpiiri</td>\n",
       "      <td>7216</td>\n",
       "      <td>5968</td>\n",
       "      <td>2650</td>\n",
       "      <td>3536</td>\n",
       "      <td>22791</td>\n",
       "      <td>22230</td>\n",
       "      <td>16498</td>\n",
       "      <td>19312</td>\n",
       "      <td>11020</td>\n",
       "      <td>7700</td>\n",
       "      <td>2236</td>\n",
       "      <td>121157</td>\n",
       "    </tr>\n",
       "    <tr>\n",
       "      <th>9</th>\n",
       "      <td>Läntinen suurpiiri</td>\n",
       "      <td>7419</td>\n",
       "      <td>6238</td>\n",
       "      <td>2858</td>\n",
       "      <td>3919</td>\n",
       "      <td>17570</td>\n",
       "      <td>20295</td>\n",
       "      <td>14285</td>\n",
       "      <td>18713</td>\n",
       "      <td>10898</td>\n",
       "      <td>6956</td>\n",
       "      <td>2894</td>\n",
       "      <td>112045</td>\n",
       "    </tr>\n",
       "    <tr>\n",
       "      <th>10</th>\n",
       "      <td>Keskinen suurpiiri</td>\n",
       "      <td>5160</td>\n",
       "      <td>3718</td>\n",
       "      <td>1436</td>\n",
       "      <td>2585</td>\n",
       "      <td>22512</td>\n",
       "      <td>22524</td>\n",
       "      <td>12902</td>\n",
       "      <td>13745</td>\n",
       "      <td>8038</td>\n",
       "      <td>4446</td>\n",
       "      <td>1574</td>\n",
       "      <td>98640</td>\n",
       "    </tr>\n",
       "    <tr>\n",
       "      <th>11</th>\n",
       "      <td>Pohjoinen suurpiiri</td>\n",
       "      <td>3293</td>\n",
       "      <td>3401</td>\n",
       "      <td>1584</td>\n",
       "      <td>1901</td>\n",
       "      <td>3599</td>\n",
       "      <td>6071</td>\n",
       "      <td>6227</td>\n",
       "      <td>8152</td>\n",
       "      <td>4645</td>\n",
       "      <td>2902</td>\n",
       "      <td>1198</td>\n",
       "      <td>42973</td>\n",
       "    </tr>\n",
       "    <tr>\n",
       "      <th>12</th>\n",
       "      <td>Koillinen suurpiiri</td>\n",
       "      <td>7902</td>\n",
       "      <td>7256</td>\n",
       "      <td>3372</td>\n",
       "      <td>4117</td>\n",
       "      <td>11639</td>\n",
       "      <td>16035</td>\n",
       "      <td>13163</td>\n",
       "      <td>18333</td>\n",
       "      <td>10076</td>\n",
       "      <td>5648</td>\n",
       "      <td>1810</td>\n",
       "      <td>99351</td>\n",
       "    </tr>\n",
       "    <tr>\n",
       "      <th>13</th>\n",
       "      <td>Kaakkoinen suurpiiri</td>\n",
       "      <td>4296</td>\n",
       "      <td>3736</td>\n",
       "      <td>1606</td>\n",
       "      <td>2014</td>\n",
       "      <td>7089</td>\n",
       "      <td>9751</td>\n",
       "      <td>7818</td>\n",
       "      <td>10321</td>\n",
       "      <td>5574</td>\n",
       "      <td>3323</td>\n",
       "      <td>1200</td>\n",
       "      <td>56728</td>\n",
       "    </tr>\n",
       "    <tr>\n",
       "      <th>14</th>\n",
       "      <td>Itäinen suurpiiri</td>\n",
       "      <td>8267</td>\n",
       "      <td>7428</td>\n",
       "      <td>3673</td>\n",
       "      <td>4772</td>\n",
       "      <td>12901</td>\n",
       "      <td>16724</td>\n",
       "      <td>14277</td>\n",
       "      <td>22629</td>\n",
       "      <td>11606</td>\n",
       "      <td>7579</td>\n",
       "      <td>2997</td>\n",
       "      <td>112853</td>\n",
       "    </tr>\n",
       "    <tr>\n",
       "      <th>15</th>\n",
       "      <td>Östersundomin suurpiiri</td>\n",
       "      <td>82</td>\n",
       "      <td>137</td>\n",
       "      <td>95</td>\n",
       "      <td>153</td>\n",
       "      <td>129</td>\n",
       "      <td>117</td>\n",
       "      <td>261</td>\n",
       "      <td>595</td>\n",
       "      <td>135</td>\n",
       "      <td>90</td>\n",
       "      <td>15</td>\n",
       "      <td>1809</td>\n",
       "    </tr>\n",
       "  </tbody>\n",
       "</table>\n",
       "</div>"
      ],
      "text/plain": [
       "                  Subregion 1   0-6  7-12  13-15  16-19  20-29  30-39  40-49  \\\n",
       "0             Suur-Leppävaara  6283  5708   2782   3357  10341  12904  10528   \n",
       "1                Suur-Tapiola  3610  3573   1731   2247   9092   7814   6827   \n",
       "2              Suur-Matinkylä  3258  3112   1416   1766   6192   7508   5848   \n",
       "3            Suur-Espoonlahti  4457  4837   2442   2904   5192   8040   8528   \n",
       "4              Suur-Kauklahti  1277  1299    604    642   1187   1980   2083   \n",
       "5                 Vanha-Espoo  3602  3412   1669   2008   4717   6486   6208   \n",
       "6               Pohjois-Espoo  1076  1230    606    710    828   1560   1944   \n",
       "8         Eteläinen suurpiiri  7216  5968   2650   3536  22791  22230  16498   \n",
       "9          Läntinen suurpiiri  7419  6238   2858   3919  17570  20295  14285   \n",
       "10         Keskinen suurpiiri  5160  3718   1436   2585  22512  22524  12902   \n",
       "11        Pohjoinen suurpiiri  3293  3401   1584   1901   3599   6071   6227   \n",
       "12        Koillinen suurpiiri  7902  7256   3372   4117  11639  16035  13163   \n",
       "13       Kaakkoinen suurpiiri  4296  3736   1606   2014   7089   9751   7818   \n",
       "14          Itäinen suurpiiri  8267  7428   3673   4772  12901  16724  14277   \n",
       "15    Östersundomin suurpiiri    82   137     95    153    129    117    261   \n",
       "\n",
       "    50-64  65-74  75-84  Over 85  Total population  \n",
       "0   12331   5736   3516     1138             74624  \n",
       "1    8178   4659   3120     1139             51990  \n",
       "2    6980   4134   2802      715             43731  \n",
       "3   11034   5621   3490      888             57433  \n",
       "4    1978    650    312      107             12119  \n",
       "5    7638   3240   1542      333             40855  \n",
       "6    2463    870    401      110             11798  \n",
       "8   19312  11020   7700     2236            121157  \n",
       "9   18713  10898   6956     2894            112045  \n",
       "10  13745   8038   4446     1574             98640  \n",
       "11   8152   4645   2902     1198             42973  \n",
       "12  18333  10076   5648     1810             99351  \n",
       "13  10321   5574   3323     1200             56728  \n",
       "14  22629  11606   7579     2997            112853  \n",
       "15    595    135     90       15              1809  "
      ]
     },
     "execution_count": 37,
     "metadata": {},
     "output_type": "execute_result"
    }
   ],
   "source": [
    "merged_pop"
   ]
  },
  {
   "cell_type": "code",
   "execution_count": 38,
   "id": "4be79ded-bab2-47fb-bb93-5c2b4218a127",
   "metadata": {
    "tags": []
   },
   "outputs": [
    {
     "name": "stderr",
     "output_type": "stream",
     "text": [
      "/tmp/ipykernel_244/3514462599.py:2: SettingWithCopyWarning:\n",
      "\n",
      "\n",
      "A value is trying to be set on a copy of a slice from a DataFrame.\n",
      "Try using .loc[row_indexer,col_indexer] = value instead\n",
      "\n",
      "See the caveats in the documentation: https://pandas.pydata.org/pandas-docs/stable/user_guide/indexing.html#returning-a-view-versus-a-copy\n",
      "\n"
     ]
    }
   ],
   "source": [
    "lat_lon['Subregion 1'] = lat_lon['Subregion 1'].str.strip().str.title()\n",
    "merged_pop['Subregion 1'] = merged_pop['Subregion 1'].str.strip().str.title()"
   ]
  },
  {
   "cell_type": "code",
   "execution_count": 39,
   "id": "90bb7b41-8510-492a-8e03-9e77b8d7258f",
   "metadata": {
    "tags": []
   },
   "outputs": [],
   "source": [
    "# Merge population dataset with lat_lon dataset\n",
    "merged_pop = pd.merge(merged_pop, lat_lon, on='Subregion 1')"
   ]
  },
  {
   "cell_type": "code",
   "execution_count": 40,
   "id": "91e4332c-4b3b-46ff-82ce-403e055a7cfc",
   "metadata": {
    "tags": []
   },
   "outputs": [
    {
     "name": "stdout",
     "output_type": "stream",
     "text": [
      "<class 'pandas.core.frame.DataFrame'>\n",
      "RangeIndex: 15 entries, 0 to 14\n",
      "Data columns (total 15 columns):\n",
      " #   Column            Non-Null Count  Dtype  \n",
      "---  ------            --------------  -----  \n",
      " 0   Subregion 1       15 non-null     object \n",
      " 1   0-6               15 non-null     int64  \n",
      " 2   7-12              15 non-null     int64  \n",
      " 3   13-15             15 non-null     int64  \n",
      " 4   16-19             15 non-null     int64  \n",
      " 5   20-29             15 non-null     int64  \n",
      " 6   30-39             15 non-null     int64  \n",
      " 7   40-49             15 non-null     int64  \n",
      " 8   50-64             15 non-null     int64  \n",
      " 9   65-74             15 non-null     int64  \n",
      " 10  75-84             15 non-null     int64  \n",
      " 11  Over 85           15 non-null     int64  \n",
      " 12  Total population  15 non-null     int64  \n",
      " 13  Lat               15 non-null     float64\n",
      " 14  Lon               15 non-null     float64\n",
      "dtypes: float64(2), int64(12), object(1)\n",
      "memory usage: 1.9+ KB\n"
     ]
    }
   ],
   "source": [
    "merged_pop.info()"
   ]
  },
  {
   "cell_type": "code",
   "execution_count": 41,
   "id": "2606593f-f64b-40be-83b7-6942332c6755",
   "metadata": {
    "tags": []
   },
   "outputs": [],
   "source": [
    "merged_pop.to_csv('merged_pop.csv', index=False)"
   ]
  },
  {
   "cell_type": "markdown",
   "id": "d7a310f1",
   "metadata": {},
   "source": [
    "# Visualisations"
   ]
  },
  {
   "cell_type": "markdown",
   "id": "f6318e96",
   "metadata": {},
   "source": [
    "## An open street map indicating the size and distribution of the population"
   ]
  },
  {
   "cell_type": "code",
   "execution_count": 42,
   "id": "e5e17d88-1f49-4140-9c21-ec2daf88c143",
   "metadata": {
    "tags": []
   },
   "outputs": [
    {
     "data": {
      "application/vnd.plotly.v1+json": {
       "config": {
        "plotlyServerURL": "https://plot.ly"
       },
       "data": [
        {
         "hovertemplate": "Total population=%{marker.size}<br>Lat=%{lat}<br>Lon=%{lon}<extra></extra>",
         "lat": [
          60.2151,
          60.1775,
          60.1627,
          60.176,
          60.1866,
          60.2016,
          60.2924,
          60.1681,
          60.1946,
          60.1834,
          60.2325,
          60.2353,
          60.1867,
          60.224,
          60.2144
         ],
         "legendgroup": "",
         "lon": [
          24.8092,
          24.8131,
          24.7528,
          24.6458,
          24.5896,
          24.6627,
          24.5316,
          24.9306,
          24.8774,
          24.9506,
          24.9178,
          25.0812,
          25.0002,
          25.0537,
          25.1667
         ],
         "marker": {
          "color": "#636efa",
          "size": [
           74624,
           51990,
           43731,
           57433,
           12119,
           40855,
           11798,
           121157,
           112045,
           98640,
           42973,
           99351,
           56728,
           112853,
           1809
          ],
          "sizemode": "area",
          "sizeref": 302.8925
         },
         "mode": "markers",
         "name": "",
         "showlegend": false,
         "subplot": "mapbox",
         "type": "scattermapbox"
        }
       ],
       "layout": {
        "height": 700,
        "legend": {
         "itemsizing": "constant",
         "tracegroupgap": 0
        },
        "mapbox": {
         "center": {
          "lat": 60.2151,
          "lon": 24.8092
         },
         "domain": {
          "x": [
           0,
           1
          ],
          "y": [
           0,
           1
          ]
         },
         "style": "open-street-map",
         "zoom": 8
        },
        "margin": {
         "t": 60
        },
        "template": {
         "data": {
          "bar": [
           {
            "error_x": {
             "color": "#2a3f5f"
            },
            "error_y": {
             "color": "#2a3f5f"
            },
            "marker": {
             "line": {
              "color": "#E5ECF6",
              "width": 0.5
             },
             "pattern": {
              "fillmode": "overlay",
              "size": 10,
              "solidity": 0.2
             }
            },
            "type": "bar"
           }
          ],
          "barpolar": [
           {
            "marker": {
             "line": {
              "color": "#E5ECF6",
              "width": 0.5
             },
             "pattern": {
              "fillmode": "overlay",
              "size": 10,
              "solidity": 0.2
             }
            },
            "type": "barpolar"
           }
          ],
          "carpet": [
           {
            "aaxis": {
             "endlinecolor": "#2a3f5f",
             "gridcolor": "white",
             "linecolor": "white",
             "minorgridcolor": "white",
             "startlinecolor": "#2a3f5f"
            },
            "baxis": {
             "endlinecolor": "#2a3f5f",
             "gridcolor": "white",
             "linecolor": "white",
             "minorgridcolor": "white",
             "startlinecolor": "#2a3f5f"
            },
            "type": "carpet"
           }
          ],
          "choropleth": [
           {
            "colorbar": {
             "outlinewidth": 0,
             "ticks": ""
            },
            "type": "choropleth"
           }
          ],
          "contour": [
           {
            "colorbar": {
             "outlinewidth": 0,
             "ticks": ""
            },
            "colorscale": [
             [
              0,
              "#0d0887"
             ],
             [
              0.1111111111111111,
              "#46039f"
             ],
             [
              0.2222222222222222,
              "#7201a8"
             ],
             [
              0.3333333333333333,
              "#9c179e"
             ],
             [
              0.4444444444444444,
              "#bd3786"
             ],
             [
              0.5555555555555556,
              "#d8576b"
             ],
             [
              0.6666666666666666,
              "#ed7953"
             ],
             [
              0.7777777777777778,
              "#fb9f3a"
             ],
             [
              0.8888888888888888,
              "#fdca26"
             ],
             [
              1,
              "#f0f921"
             ]
            ],
            "type": "contour"
           }
          ],
          "contourcarpet": [
           {
            "colorbar": {
             "outlinewidth": 0,
             "ticks": ""
            },
            "type": "contourcarpet"
           }
          ],
          "heatmap": [
           {
            "colorbar": {
             "outlinewidth": 0,
             "ticks": ""
            },
            "colorscale": [
             [
              0,
              "#0d0887"
             ],
             [
              0.1111111111111111,
              "#46039f"
             ],
             [
              0.2222222222222222,
              "#7201a8"
             ],
             [
              0.3333333333333333,
              "#9c179e"
             ],
             [
              0.4444444444444444,
              "#bd3786"
             ],
             [
              0.5555555555555556,
              "#d8576b"
             ],
             [
              0.6666666666666666,
              "#ed7953"
             ],
             [
              0.7777777777777778,
              "#fb9f3a"
             ],
             [
              0.8888888888888888,
              "#fdca26"
             ],
             [
              1,
              "#f0f921"
             ]
            ],
            "type": "heatmap"
           }
          ],
          "heatmapgl": [
           {
            "colorbar": {
             "outlinewidth": 0,
             "ticks": ""
            },
            "colorscale": [
             [
              0,
              "#0d0887"
             ],
             [
              0.1111111111111111,
              "#46039f"
             ],
             [
              0.2222222222222222,
              "#7201a8"
             ],
             [
              0.3333333333333333,
              "#9c179e"
             ],
             [
              0.4444444444444444,
              "#bd3786"
             ],
             [
              0.5555555555555556,
              "#d8576b"
             ],
             [
              0.6666666666666666,
              "#ed7953"
             ],
             [
              0.7777777777777778,
              "#fb9f3a"
             ],
             [
              0.8888888888888888,
              "#fdca26"
             ],
             [
              1,
              "#f0f921"
             ]
            ],
            "type": "heatmapgl"
           }
          ],
          "histogram": [
           {
            "marker": {
             "pattern": {
              "fillmode": "overlay",
              "size": 10,
              "solidity": 0.2
             }
            },
            "type": "histogram"
           }
          ],
          "histogram2d": [
           {
            "colorbar": {
             "outlinewidth": 0,
             "ticks": ""
            },
            "colorscale": [
             [
              0,
              "#0d0887"
             ],
             [
              0.1111111111111111,
              "#46039f"
             ],
             [
              0.2222222222222222,
              "#7201a8"
             ],
             [
              0.3333333333333333,
              "#9c179e"
             ],
             [
              0.4444444444444444,
              "#bd3786"
             ],
             [
              0.5555555555555556,
              "#d8576b"
             ],
             [
              0.6666666666666666,
              "#ed7953"
             ],
             [
              0.7777777777777778,
              "#fb9f3a"
             ],
             [
              0.8888888888888888,
              "#fdca26"
             ],
             [
              1,
              "#f0f921"
             ]
            ],
            "type": "histogram2d"
           }
          ],
          "histogram2dcontour": [
           {
            "colorbar": {
             "outlinewidth": 0,
             "ticks": ""
            },
            "colorscale": [
             [
              0,
              "#0d0887"
             ],
             [
              0.1111111111111111,
              "#46039f"
             ],
             [
              0.2222222222222222,
              "#7201a8"
             ],
             [
              0.3333333333333333,
              "#9c179e"
             ],
             [
              0.4444444444444444,
              "#bd3786"
             ],
             [
              0.5555555555555556,
              "#d8576b"
             ],
             [
              0.6666666666666666,
              "#ed7953"
             ],
             [
              0.7777777777777778,
              "#fb9f3a"
             ],
             [
              0.8888888888888888,
              "#fdca26"
             ],
             [
              1,
              "#f0f921"
             ]
            ],
            "type": "histogram2dcontour"
           }
          ],
          "mesh3d": [
           {
            "colorbar": {
             "outlinewidth": 0,
             "ticks": ""
            },
            "type": "mesh3d"
           }
          ],
          "parcoords": [
           {
            "line": {
             "colorbar": {
              "outlinewidth": 0,
              "ticks": ""
             }
            },
            "type": "parcoords"
           }
          ],
          "pie": [
           {
            "automargin": true,
            "type": "pie"
           }
          ],
          "scatter": [
           {
            "fillpattern": {
             "fillmode": "overlay",
             "size": 10,
             "solidity": 0.2
            },
            "type": "scatter"
           }
          ],
          "scatter3d": [
           {
            "line": {
             "colorbar": {
              "outlinewidth": 0,
              "ticks": ""
             }
            },
            "marker": {
             "colorbar": {
              "outlinewidth": 0,
              "ticks": ""
             }
            },
            "type": "scatter3d"
           }
          ],
          "scattercarpet": [
           {
            "marker": {
             "colorbar": {
              "outlinewidth": 0,
              "ticks": ""
             }
            },
            "type": "scattercarpet"
           }
          ],
          "scattergeo": [
           {
            "marker": {
             "colorbar": {
              "outlinewidth": 0,
              "ticks": ""
             }
            },
            "type": "scattergeo"
           }
          ],
          "scattergl": [
           {
            "marker": {
             "colorbar": {
              "outlinewidth": 0,
              "ticks": ""
             }
            },
            "type": "scattergl"
           }
          ],
          "scattermapbox": [
           {
            "marker": {
             "colorbar": {
              "outlinewidth": 0,
              "ticks": ""
             }
            },
            "type": "scattermapbox"
           }
          ],
          "scatterpolar": [
           {
            "marker": {
             "colorbar": {
              "outlinewidth": 0,
              "ticks": ""
             }
            },
            "type": "scatterpolar"
           }
          ],
          "scatterpolargl": [
           {
            "marker": {
             "colorbar": {
              "outlinewidth": 0,
              "ticks": ""
             }
            },
            "type": "scatterpolargl"
           }
          ],
          "scatterternary": [
           {
            "marker": {
             "colorbar": {
              "outlinewidth": 0,
              "ticks": ""
             }
            },
            "type": "scatterternary"
           }
          ],
          "surface": [
           {
            "colorbar": {
             "outlinewidth": 0,
             "ticks": ""
            },
            "colorscale": [
             [
              0,
              "#0d0887"
             ],
             [
              0.1111111111111111,
              "#46039f"
             ],
             [
              0.2222222222222222,
              "#7201a8"
             ],
             [
              0.3333333333333333,
              "#9c179e"
             ],
             [
              0.4444444444444444,
              "#bd3786"
             ],
             [
              0.5555555555555556,
              "#d8576b"
             ],
             [
              0.6666666666666666,
              "#ed7953"
             ],
             [
              0.7777777777777778,
              "#fb9f3a"
             ],
             [
              0.8888888888888888,
              "#fdca26"
             ],
             [
              1,
              "#f0f921"
             ]
            ],
            "type": "surface"
           }
          ],
          "table": [
           {
            "cells": {
             "fill": {
              "color": "#EBF0F8"
             },
             "line": {
              "color": "white"
             }
            },
            "header": {
             "fill": {
              "color": "#C8D4E3"
             },
             "line": {
              "color": "white"
             }
            },
            "type": "table"
           }
          ]
         },
         "layout": {
          "annotationdefaults": {
           "arrowcolor": "#2a3f5f",
           "arrowhead": 0,
           "arrowwidth": 1
          },
          "autotypenumbers": "strict",
          "coloraxis": {
           "colorbar": {
            "outlinewidth": 0,
            "ticks": ""
           }
          },
          "colorscale": {
           "diverging": [
            [
             0,
             "#8e0152"
            ],
            [
             0.1,
             "#c51b7d"
            ],
            [
             0.2,
             "#de77ae"
            ],
            [
             0.3,
             "#f1b6da"
            ],
            [
             0.4,
             "#fde0ef"
            ],
            [
             0.5,
             "#f7f7f7"
            ],
            [
             0.6,
             "#e6f5d0"
            ],
            [
             0.7,
             "#b8e186"
            ],
            [
             0.8,
             "#7fbc41"
            ],
            [
             0.9,
             "#4d9221"
            ],
            [
             1,
             "#276419"
            ]
           ],
           "sequential": [
            [
             0,
             "#0d0887"
            ],
            [
             0.1111111111111111,
             "#46039f"
            ],
            [
             0.2222222222222222,
             "#7201a8"
            ],
            [
             0.3333333333333333,
             "#9c179e"
            ],
            [
             0.4444444444444444,
             "#bd3786"
            ],
            [
             0.5555555555555556,
             "#d8576b"
            ],
            [
             0.6666666666666666,
             "#ed7953"
            ],
            [
             0.7777777777777778,
             "#fb9f3a"
            ],
            [
             0.8888888888888888,
             "#fdca26"
            ],
            [
             1,
             "#f0f921"
            ]
           ],
           "sequentialminus": [
            [
             0,
             "#0d0887"
            ],
            [
             0.1111111111111111,
             "#46039f"
            ],
            [
             0.2222222222222222,
             "#7201a8"
            ],
            [
             0.3333333333333333,
             "#9c179e"
            ],
            [
             0.4444444444444444,
             "#bd3786"
            ],
            [
             0.5555555555555556,
             "#d8576b"
            ],
            [
             0.6666666666666666,
             "#ed7953"
            ],
            [
             0.7777777777777778,
             "#fb9f3a"
            ],
            [
             0.8888888888888888,
             "#fdca26"
            ],
            [
             1,
             "#f0f921"
            ]
           ]
          },
          "colorway": [
           "#636efa",
           "#EF553B",
           "#00cc96",
           "#ab63fa",
           "#FFA15A",
           "#19d3f3",
           "#FF6692",
           "#B6E880",
           "#FF97FF",
           "#FECB52"
          ],
          "font": {
           "color": "#2a3f5f"
          },
          "geo": {
           "bgcolor": "white",
           "lakecolor": "white",
           "landcolor": "#E5ECF6",
           "showlakes": true,
           "showland": true,
           "subunitcolor": "white"
          },
          "hoverlabel": {
           "align": "left"
          },
          "hovermode": "closest",
          "mapbox": {
           "style": "light"
          },
          "paper_bgcolor": "white",
          "plot_bgcolor": "#E5ECF6",
          "polar": {
           "angularaxis": {
            "gridcolor": "white",
            "linecolor": "white",
            "ticks": ""
           },
           "bgcolor": "#E5ECF6",
           "radialaxis": {
            "gridcolor": "white",
            "linecolor": "white",
            "ticks": ""
           }
          },
          "scene": {
           "xaxis": {
            "backgroundcolor": "#E5ECF6",
            "gridcolor": "white",
            "gridwidth": 2,
            "linecolor": "white",
            "showbackground": true,
            "ticks": "",
            "zerolinecolor": "white"
           },
           "yaxis": {
            "backgroundcolor": "#E5ECF6",
            "gridcolor": "white",
            "gridwidth": 2,
            "linecolor": "white",
            "showbackground": true,
            "ticks": "",
            "zerolinecolor": "white"
           },
           "zaxis": {
            "backgroundcolor": "#E5ECF6",
            "gridcolor": "white",
            "gridwidth": 2,
            "linecolor": "white",
            "showbackground": true,
            "ticks": "",
            "zerolinecolor": "white"
           }
          },
          "shapedefaults": {
           "line": {
            "color": "#2a3f5f"
           }
          },
          "ternary": {
           "aaxis": {
            "gridcolor": "white",
            "linecolor": "white",
            "ticks": ""
           },
           "baxis": {
            "gridcolor": "white",
            "linecolor": "white",
            "ticks": ""
           },
           "bgcolor": "#E5ECF6",
           "caxis": {
            "gridcolor": "white",
            "linecolor": "white",
            "ticks": ""
           }
          },
          "title": {
           "x": 0.05
          },
          "xaxis": {
           "automargin": true,
           "gridcolor": "white",
           "linecolor": "white",
           "ticks": "",
           "title": {
            "standoff": 15
           },
           "zerolinecolor": "white",
           "zerolinewidth": 2
          },
          "yaxis": {
           "automargin": true,
           "gridcolor": "white",
           "linecolor": "white",
           "ticks": "",
           "title": {
            "standoff": 15
           },
           "zerolinecolor": "white",
           "zerolinewidth": 2
          }
         }
        },
        "width": 600
       }
      },
      "text/html": [
       "<div>                            <div id=\"4dd66190-4ede-49b1-81be-5dc0ec8dabfc\" class=\"plotly-graph-div\" style=\"height:700px; width:600px;\"></div>            <script type=\"text/javascript\">                require([\"plotly\"], function(Plotly) {                    window.PLOTLYENV=window.PLOTLYENV || {};                                    if (document.getElementById(\"4dd66190-4ede-49b1-81be-5dc0ec8dabfc\")) {                    Plotly.newPlot(                        \"4dd66190-4ede-49b1-81be-5dc0ec8dabfc\",                        [{\"hovertemplate\":\"Total population=%{marker.size}\\u003cbr\\u003eLat=%{lat}\\u003cbr\\u003eLon=%{lon}\\u003cextra\\u003e\\u003c\\u002fextra\\u003e\",\"lat\":[60.2151,60.1775,60.1627,60.176,60.1866,60.2016,60.2924,60.1681,60.1946,60.1834,60.2325,60.2353,60.1867,60.224,60.2144],\"legendgroup\":\"\",\"lon\":[24.8092,24.8131,24.7528,24.6458,24.5896,24.6627,24.5316,24.9306,24.8774,24.9506,24.9178,25.0812,25.0002,25.0537,25.1667],\"marker\":{\"color\":\"#636efa\",\"size\":[74624,51990,43731,57433,12119,40855,11798,121157,112045,98640,42973,99351,56728,112853,1809],\"sizemode\":\"area\",\"sizeref\":302.8925},\"mode\":\"markers\",\"name\":\"\",\"showlegend\":false,\"subplot\":\"mapbox\",\"type\":\"scattermapbox\"}],                        {\"template\":{\"data\":{\"histogram2dcontour\":[{\"type\":\"histogram2dcontour\",\"colorbar\":{\"outlinewidth\":0,\"ticks\":\"\"},\"colorscale\":[[0.0,\"#0d0887\"],[0.1111111111111111,\"#46039f\"],[0.2222222222222222,\"#7201a8\"],[0.3333333333333333,\"#9c179e\"],[0.4444444444444444,\"#bd3786\"],[0.5555555555555556,\"#d8576b\"],[0.6666666666666666,\"#ed7953\"],[0.7777777777777778,\"#fb9f3a\"],[0.8888888888888888,\"#fdca26\"],[1.0,\"#f0f921\"]]}],\"choropleth\":[{\"type\":\"choropleth\",\"colorbar\":{\"outlinewidth\":0,\"ticks\":\"\"}}],\"histogram2d\":[{\"type\":\"histogram2d\",\"colorbar\":{\"outlinewidth\":0,\"ticks\":\"\"},\"colorscale\":[[0.0,\"#0d0887\"],[0.1111111111111111,\"#46039f\"],[0.2222222222222222,\"#7201a8\"],[0.3333333333333333,\"#9c179e\"],[0.4444444444444444,\"#bd3786\"],[0.5555555555555556,\"#d8576b\"],[0.6666666666666666,\"#ed7953\"],[0.7777777777777778,\"#fb9f3a\"],[0.8888888888888888,\"#fdca26\"],[1.0,\"#f0f921\"]]}],\"heatmap\":[{\"type\":\"heatmap\",\"colorbar\":{\"outlinewidth\":0,\"ticks\":\"\"},\"colorscale\":[[0.0,\"#0d0887\"],[0.1111111111111111,\"#46039f\"],[0.2222222222222222,\"#7201a8\"],[0.3333333333333333,\"#9c179e\"],[0.4444444444444444,\"#bd3786\"],[0.5555555555555556,\"#d8576b\"],[0.6666666666666666,\"#ed7953\"],[0.7777777777777778,\"#fb9f3a\"],[0.8888888888888888,\"#fdca26\"],[1.0,\"#f0f921\"]]}],\"heatmapgl\":[{\"type\":\"heatmapgl\",\"colorbar\":{\"outlinewidth\":0,\"ticks\":\"\"},\"colorscale\":[[0.0,\"#0d0887\"],[0.1111111111111111,\"#46039f\"],[0.2222222222222222,\"#7201a8\"],[0.3333333333333333,\"#9c179e\"],[0.4444444444444444,\"#bd3786\"],[0.5555555555555556,\"#d8576b\"],[0.6666666666666666,\"#ed7953\"],[0.7777777777777778,\"#fb9f3a\"],[0.8888888888888888,\"#fdca26\"],[1.0,\"#f0f921\"]]}],\"contourcarpet\":[{\"type\":\"contourcarpet\",\"colorbar\":{\"outlinewidth\":0,\"ticks\":\"\"}}],\"contour\":[{\"type\":\"contour\",\"colorbar\":{\"outlinewidth\":0,\"ticks\":\"\"},\"colorscale\":[[0.0,\"#0d0887\"],[0.1111111111111111,\"#46039f\"],[0.2222222222222222,\"#7201a8\"],[0.3333333333333333,\"#9c179e\"],[0.4444444444444444,\"#bd3786\"],[0.5555555555555556,\"#d8576b\"],[0.6666666666666666,\"#ed7953\"],[0.7777777777777778,\"#fb9f3a\"],[0.8888888888888888,\"#fdca26\"],[1.0,\"#f0f921\"]]}],\"surface\":[{\"type\":\"surface\",\"colorbar\":{\"outlinewidth\":0,\"ticks\":\"\"},\"colorscale\":[[0.0,\"#0d0887\"],[0.1111111111111111,\"#46039f\"],[0.2222222222222222,\"#7201a8\"],[0.3333333333333333,\"#9c179e\"],[0.4444444444444444,\"#bd3786\"],[0.5555555555555556,\"#d8576b\"],[0.6666666666666666,\"#ed7953\"],[0.7777777777777778,\"#fb9f3a\"],[0.8888888888888888,\"#fdca26\"],[1.0,\"#f0f921\"]]}],\"mesh3d\":[{\"type\":\"mesh3d\",\"colorbar\":{\"outlinewidth\":0,\"ticks\":\"\"}}],\"scatter\":[{\"fillpattern\":{\"fillmode\":\"overlay\",\"size\":10,\"solidity\":0.2},\"type\":\"scatter\"}],\"parcoords\":[{\"type\":\"parcoords\",\"line\":{\"colorbar\":{\"outlinewidth\":0,\"ticks\":\"\"}}}],\"scatterpolargl\":[{\"type\":\"scatterpolargl\",\"marker\":{\"colorbar\":{\"outlinewidth\":0,\"ticks\":\"\"}}}],\"bar\":[{\"error_x\":{\"color\":\"#2a3f5f\"},\"error_y\":{\"color\":\"#2a3f5f\"},\"marker\":{\"line\":{\"color\":\"#E5ECF6\",\"width\":0.5},\"pattern\":{\"fillmode\":\"overlay\",\"size\":10,\"solidity\":0.2}},\"type\":\"bar\"}],\"scattergeo\":[{\"type\":\"scattergeo\",\"marker\":{\"colorbar\":{\"outlinewidth\":0,\"ticks\":\"\"}}}],\"scatterpolar\":[{\"type\":\"scatterpolar\",\"marker\":{\"colorbar\":{\"outlinewidth\":0,\"ticks\":\"\"}}}],\"histogram\":[{\"marker\":{\"pattern\":{\"fillmode\":\"overlay\",\"size\":10,\"solidity\":0.2}},\"type\":\"histogram\"}],\"scattergl\":[{\"type\":\"scattergl\",\"marker\":{\"colorbar\":{\"outlinewidth\":0,\"ticks\":\"\"}}}],\"scatter3d\":[{\"type\":\"scatter3d\",\"line\":{\"colorbar\":{\"outlinewidth\":0,\"ticks\":\"\"}},\"marker\":{\"colorbar\":{\"outlinewidth\":0,\"ticks\":\"\"}}}],\"scattermapbox\":[{\"type\":\"scattermapbox\",\"marker\":{\"colorbar\":{\"outlinewidth\":0,\"ticks\":\"\"}}}],\"scatterternary\":[{\"type\":\"scatterternary\",\"marker\":{\"colorbar\":{\"outlinewidth\":0,\"ticks\":\"\"}}}],\"scattercarpet\":[{\"type\":\"scattercarpet\",\"marker\":{\"colorbar\":{\"outlinewidth\":0,\"ticks\":\"\"}}}],\"carpet\":[{\"aaxis\":{\"endlinecolor\":\"#2a3f5f\",\"gridcolor\":\"white\",\"linecolor\":\"white\",\"minorgridcolor\":\"white\",\"startlinecolor\":\"#2a3f5f\"},\"baxis\":{\"endlinecolor\":\"#2a3f5f\",\"gridcolor\":\"white\",\"linecolor\":\"white\",\"minorgridcolor\":\"white\",\"startlinecolor\":\"#2a3f5f\"},\"type\":\"carpet\"}],\"table\":[{\"cells\":{\"fill\":{\"color\":\"#EBF0F8\"},\"line\":{\"color\":\"white\"}},\"header\":{\"fill\":{\"color\":\"#C8D4E3\"},\"line\":{\"color\":\"white\"}},\"type\":\"table\"}],\"barpolar\":[{\"marker\":{\"line\":{\"color\":\"#E5ECF6\",\"width\":0.5},\"pattern\":{\"fillmode\":\"overlay\",\"size\":10,\"solidity\":0.2}},\"type\":\"barpolar\"}],\"pie\":[{\"automargin\":true,\"type\":\"pie\"}]},\"layout\":{\"autotypenumbers\":\"strict\",\"colorway\":[\"#636efa\",\"#EF553B\",\"#00cc96\",\"#ab63fa\",\"#FFA15A\",\"#19d3f3\",\"#FF6692\",\"#B6E880\",\"#FF97FF\",\"#FECB52\"],\"font\":{\"color\":\"#2a3f5f\"},\"hovermode\":\"closest\",\"hoverlabel\":{\"align\":\"left\"},\"paper_bgcolor\":\"white\",\"plot_bgcolor\":\"#E5ECF6\",\"polar\":{\"bgcolor\":\"#E5ECF6\",\"angularaxis\":{\"gridcolor\":\"white\",\"linecolor\":\"white\",\"ticks\":\"\"},\"radialaxis\":{\"gridcolor\":\"white\",\"linecolor\":\"white\",\"ticks\":\"\"}},\"ternary\":{\"bgcolor\":\"#E5ECF6\",\"aaxis\":{\"gridcolor\":\"white\",\"linecolor\":\"white\",\"ticks\":\"\"},\"baxis\":{\"gridcolor\":\"white\",\"linecolor\":\"white\",\"ticks\":\"\"},\"caxis\":{\"gridcolor\":\"white\",\"linecolor\":\"white\",\"ticks\":\"\"}},\"coloraxis\":{\"colorbar\":{\"outlinewidth\":0,\"ticks\":\"\"}},\"colorscale\":{\"sequential\":[[0.0,\"#0d0887\"],[0.1111111111111111,\"#46039f\"],[0.2222222222222222,\"#7201a8\"],[0.3333333333333333,\"#9c179e\"],[0.4444444444444444,\"#bd3786\"],[0.5555555555555556,\"#d8576b\"],[0.6666666666666666,\"#ed7953\"],[0.7777777777777778,\"#fb9f3a\"],[0.8888888888888888,\"#fdca26\"],[1.0,\"#f0f921\"]],\"sequentialminus\":[[0.0,\"#0d0887\"],[0.1111111111111111,\"#46039f\"],[0.2222222222222222,\"#7201a8\"],[0.3333333333333333,\"#9c179e\"],[0.4444444444444444,\"#bd3786\"],[0.5555555555555556,\"#d8576b\"],[0.6666666666666666,\"#ed7953\"],[0.7777777777777778,\"#fb9f3a\"],[0.8888888888888888,\"#fdca26\"],[1.0,\"#f0f921\"]],\"diverging\":[[0,\"#8e0152\"],[0.1,\"#c51b7d\"],[0.2,\"#de77ae\"],[0.3,\"#f1b6da\"],[0.4,\"#fde0ef\"],[0.5,\"#f7f7f7\"],[0.6,\"#e6f5d0\"],[0.7,\"#b8e186\"],[0.8,\"#7fbc41\"],[0.9,\"#4d9221\"],[1,\"#276419\"]]},\"xaxis\":{\"gridcolor\":\"white\",\"linecolor\":\"white\",\"ticks\":\"\",\"title\":{\"standoff\":15},\"zerolinecolor\":\"white\",\"automargin\":true,\"zerolinewidth\":2},\"yaxis\":{\"gridcolor\":\"white\",\"linecolor\":\"white\",\"ticks\":\"\",\"title\":{\"standoff\":15},\"zerolinecolor\":\"white\",\"automargin\":true,\"zerolinewidth\":2},\"scene\":{\"xaxis\":{\"backgroundcolor\":\"#E5ECF6\",\"gridcolor\":\"white\",\"linecolor\":\"white\",\"showbackground\":true,\"ticks\":\"\",\"zerolinecolor\":\"white\",\"gridwidth\":2},\"yaxis\":{\"backgroundcolor\":\"#E5ECF6\",\"gridcolor\":\"white\",\"linecolor\":\"white\",\"showbackground\":true,\"ticks\":\"\",\"zerolinecolor\":\"white\",\"gridwidth\":2},\"zaxis\":{\"backgroundcolor\":\"#E5ECF6\",\"gridcolor\":\"white\",\"linecolor\":\"white\",\"showbackground\":true,\"ticks\":\"\",\"zerolinecolor\":\"white\",\"gridwidth\":2}},\"shapedefaults\":{\"line\":{\"color\":\"#2a3f5f\"}},\"annotationdefaults\":{\"arrowcolor\":\"#2a3f5f\",\"arrowhead\":0,\"arrowwidth\":1},\"geo\":{\"bgcolor\":\"white\",\"landcolor\":\"#E5ECF6\",\"subunitcolor\":\"white\",\"showland\":true,\"showlakes\":true,\"lakecolor\":\"white\"},\"title\":{\"x\":0.05},\"mapbox\":{\"style\":\"light\"}}},\"mapbox\":{\"domain\":{\"x\":[0.0,1.0],\"y\":[0.0,1.0]},\"center\":{\"lat\":60.2151,\"lon\":24.8092},\"zoom\":8,\"style\":\"open-street-map\"},\"legend\":{\"tracegroupgap\":0,\"itemsizing\":\"constant\"},\"margin\":{\"t\":60},\"height\":700,\"width\":600},                        {\"responsive\": true}                    ).then(function(){\n",
       "                            \n",
       "var gd = document.getElementById('4dd66190-4ede-49b1-81be-5dc0ec8dabfc');\n",
       "var x = new MutationObserver(function (mutations, observer) {{\n",
       "        var display = window.getComputedStyle(gd).display;\n",
       "        if (!display || display === 'none') {{\n",
       "            console.log([gd, 'removed!']);\n",
       "            Plotly.purge(gd);\n",
       "            observer.disconnect();\n",
       "        }}\n",
       "}});\n",
       "\n",
       "// Listen for the removal of the full notebook cells\n",
       "var notebookContainer = gd.closest('#notebook-container');\n",
       "if (notebookContainer) {{\n",
       "    x.observe(notebookContainer, {childList: true});\n",
       "}}\n",
       "\n",
       "// Listen for the clearing of the current output cell\n",
       "var outputEl = gd.closest('.output');\n",
       "if (outputEl) {{\n",
       "    x.observe(outputEl, {childList: true});\n",
       "}}\n",
       "\n",
       "                        })                };                });            </script>        </div>"
      ]
     },
     "metadata": {},
     "output_type": "display_data"
    }
   ],
   "source": [
    "import plotly.express as px\n",
    "\n",
    "fig = px.scatter_mapbox(\n",
    "    merged_pop,  # Our DataFrame\n",
    "    lat=\"Lat\",\n",
    "    lon=\"Lon\",\n",
    "    size=\"Total population\",\n",
    "    center={\"lat\": 60.2151, \"lon\": 24.8092},  # Map will be centered on Helsinki\n",
    "    width=600,  # Width of map\n",
    "    height=700,  # Height of map\n",
    "    size_max=20,\n",
    ")\n",
    "\n",
    "fig.update_layout(mapbox_style=\"open-street-map\")\n",
    "\n",
    "fig.show()"
   ]
  },
  {
   "cell_type": "code",
   "execution_count": 59,
   "id": "7329ec24",
   "metadata": {},
   "outputs": [
    {
     "data": {
      "image/png": "[encoded data removed]",
      "text/plain": [
       "<Figure size 1000x600 with 1 Axes>"
      ]
     },
     "metadata": {},
     "output_type": "display_data"
    }
   ],
   "source": [
    "import matplotlib.pyplot as plt\n",
    "\n",
    "\n",
    "# Set the 'Area' column as the index for easier plotting\n",
    "route.set_index('Area', inplace=True)\n",
    "\n",
    "# Plotting\n",
    "route[['Departure total distance', 'Return total distance']].plot(kind='bar', figsize=(10, 6))\n",
    "plt.title('Total Departure and Return Distance by Area')\n",
    "plt.xlabel('Area')\n",
    "plt.ylabel('Distance')\n",
    "plt.xticks(rotation=45, ha='right')\n",
    "plt.legend(title='Distance Type')\n",
    "plt.tight_layout()\n",
    "plt.show()"
   ]
  },
  {
   "cell_type": "code",
   "execution_count": 72,
   "id": "d8926d30",
   "metadata": {},
   "outputs": [
    {
     "ename": "KeyError",
     "evalue": "'Area'",
     "output_type": "error",
     "traceback": [
      "\u001b[0;31m---------------------------------------------------------------------------\u001b[0m",
      "\u001b[0;31mKeyError\u001b[0m                                  Traceback (most recent call last)",
      "File \u001b[0;32m/opt/software/lib/python3.10/site-packages/pandas/core/indexes/base.py:3790\u001b[0m, in \u001b[0;36mIndex.get_loc\u001b[0;34m(self, key)\u001b[0m\n\u001b[1;32m   3789\u001b[0m \u001b[38;5;28;01mtry\u001b[39;00m:\n\u001b[0;32m-> 3790\u001b[0m     \u001b[38;5;28;01mreturn\u001b[39;00m \u001b[38;5;28;43mself\u001b[39;49m\u001b[38;5;241;43m.\u001b[39;49m\u001b[43m_engine\u001b[49m\u001b[38;5;241;43m.\u001b[39;49m\u001b[43mget_loc\u001b[49m\u001b[43m(\u001b[49m\u001b[43mcasted_key\u001b[49m\u001b[43m)\u001b[49m\n\u001b[1;32m   3791\u001b[0m \u001b[38;5;28;01mexcept\u001b[39;00m \u001b[38;5;167;01mKeyError\u001b[39;00m \u001b[38;5;28;01mas\u001b[39;00m err:\n",
      "File \u001b[0;32mindex.pyx:152\u001b[0m, in \u001b[0;36mpandas._libs.index.IndexEngine.get_loc\u001b[0;34m()\u001b[0m\n",
      "File \u001b[0;32mindex.pyx:181\u001b[0m, in \u001b[0;36mpandas._libs.index.IndexEngine.get_loc\u001b[0;34m()\u001b[0m\n",
      "File \u001b[0;32mpandas/_libs/hashtable_class_helper.pxi:7080\u001b[0m, in \u001b[0;36mpandas._libs.hashtable.PyObjectHashTable.get_item\u001b[0;34m()\u001b[0m\n",
      "File \u001b[0;32mpandas/_libs/hashtable_class_helper.pxi:7088\u001b[0m, in \u001b[0;36mpandas._libs.hashtable.PyObjectHashTable.get_item\u001b[0;34m()\u001b[0m\n",
      "\u001b[0;31mKeyError\u001b[0m: 'Area'",
      "\nThe above exception was the direct cause of the following exception:\n",
      "\u001b[0;31mKeyError\u001b[0m                                  Traceback (most recent call last)",
      "Cell \u001b[0;32mIn[72], line 4\u001b[0m\n\u001b[1;32m      1\u001b[0m \u001b[38;5;28;01mimport\u001b[39;00m \u001b[38;5;21;01mmatplotlib\u001b[39;00m\u001b[38;5;21;01m.\u001b[39;00m\u001b[38;5;21;01mpyplot\u001b[39;00m \u001b[38;5;28;01mas\u001b[39;00m \u001b[38;5;21;01mplt\u001b[39;00m\n\u001b[1;32m      3\u001b[0m \u001b[38;5;66;03m# Get unique regions\u001b[39;00m\n\u001b[0;32m----> 4\u001b[0m regions \u001b[38;5;241m=\u001b[39m \u001b[43mroute\u001b[49m\u001b[43m[\u001b[49m\u001b[38;5;124;43m'\u001b[39;49m\u001b[38;5;124;43mArea\u001b[39;49m\u001b[38;5;124;43m'\u001b[39;49m\u001b[43m]\u001b[49m\n\u001b[1;32m      6\u001b[0m \u001b[38;5;66;03m# Define colors for each region\u001b[39;00m\n\u001b[1;32m      7\u001b[0m colors \u001b[38;5;241m=\u001b[39m [\u001b[38;5;124m'\u001b[39m\u001b[38;5;124mred\u001b[39m\u001b[38;5;124m'\u001b[39m, \u001b[38;5;124m'\u001b[39m\u001b[38;5;124mgreen\u001b[39m\u001b[38;5;124m'\u001b[39m, \u001b[38;5;124m'\u001b[39m\u001b[38;5;124mblue\u001b[39m\u001b[38;5;124m'\u001b[39m, \u001b[38;5;124m'\u001b[39m\u001b[38;5;124morange\u001b[39m\u001b[38;5;124m'\u001b[39m, \u001b[38;5;124m'\u001b[39m\u001b[38;5;124mpurple\u001b[39m\u001b[38;5;124m'\u001b[39m, \u001b[38;5;124m'\u001b[39m\u001b[38;5;124mcyan\u001b[39m\u001b[38;5;124m'\u001b[39m, \u001b[38;5;124m'\u001b[39m\u001b[38;5;124mmagenta\u001b[39m\u001b[38;5;124m'\u001b[39m, \u001b[38;5;124m'\u001b[39m\u001b[38;5;124myellow\u001b[39m\u001b[38;5;124m'\u001b[39m, \u001b[38;5;124m'\u001b[39m\u001b[38;5;124mblack\u001b[39m\u001b[38;5;124m'\u001b[39m, \u001b[38;5;124m'\u001b[39m\u001b[38;5;124mbrown\u001b[39m\u001b[38;5;124m'\u001b[39m]\n",
      "File \u001b[0;32m/opt/software/lib/python3.10/site-packages/pandas/core/frame.py:3893\u001b[0m, in \u001b[0;36mDataFrame.__getitem__\u001b[0;34m(self, key)\u001b[0m\n\u001b[1;32m   3891\u001b[0m \u001b[38;5;28;01mif\u001b[39;00m \u001b[38;5;28mself\u001b[39m\u001b[38;5;241m.\u001b[39mcolumns\u001b[38;5;241m.\u001b[39mnlevels \u001b[38;5;241m>\u001b[39m \u001b[38;5;241m1\u001b[39m:\n\u001b[1;32m   3892\u001b[0m     \u001b[38;5;28;01mreturn\u001b[39;00m \u001b[38;5;28mself\u001b[39m\u001b[38;5;241m.\u001b[39m_getitem_multilevel(key)\n\u001b[0;32m-> 3893\u001b[0m indexer \u001b[38;5;241m=\u001b[39m \u001b[38;5;28;43mself\u001b[39;49m\u001b[38;5;241;43m.\u001b[39;49m\u001b[43mcolumns\u001b[49m\u001b[38;5;241;43m.\u001b[39;49m\u001b[43mget_loc\u001b[49m\u001b[43m(\u001b[49m\u001b[43mkey\u001b[49m\u001b[43m)\u001b[49m\n\u001b[1;32m   3894\u001b[0m \u001b[38;5;28;01mif\u001b[39;00m is_integer(indexer):\n\u001b[1;32m   3895\u001b[0m     indexer \u001b[38;5;241m=\u001b[39m [indexer]\n",
      "File \u001b[0;32m/opt/software/lib/python3.10/site-packages/pandas/core/indexes/base.py:3797\u001b[0m, in \u001b[0;36mIndex.get_loc\u001b[0;34m(self, key)\u001b[0m\n\u001b[1;32m   3792\u001b[0m     \u001b[38;5;28;01mif\u001b[39;00m \u001b[38;5;28misinstance\u001b[39m(casted_key, \u001b[38;5;28mslice\u001b[39m) \u001b[38;5;129;01mor\u001b[39;00m (\n\u001b[1;32m   3793\u001b[0m         \u001b[38;5;28misinstance\u001b[39m(casted_key, abc\u001b[38;5;241m.\u001b[39mIterable)\n\u001b[1;32m   3794\u001b[0m         \u001b[38;5;129;01mand\u001b[39;00m \u001b[38;5;28many\u001b[39m(\u001b[38;5;28misinstance\u001b[39m(x, \u001b[38;5;28mslice\u001b[39m) \u001b[38;5;28;01mfor\u001b[39;00m x \u001b[38;5;129;01min\u001b[39;00m casted_key)\n\u001b[1;32m   3795\u001b[0m     ):\n\u001b[1;32m   3796\u001b[0m         \u001b[38;5;28;01mraise\u001b[39;00m InvalidIndexError(key)\n\u001b[0;32m-> 3797\u001b[0m     \u001b[38;5;28;01mraise\u001b[39;00m \u001b[38;5;167;01mKeyError\u001b[39;00m(key) \u001b[38;5;28;01mfrom\u001b[39;00m \u001b[38;5;21;01merr\u001b[39;00m\n\u001b[1;32m   3798\u001b[0m \u001b[38;5;28;01mexcept\u001b[39;00m \u001b[38;5;167;01mTypeError\u001b[39;00m:\n\u001b[1;32m   3799\u001b[0m     \u001b[38;5;66;03m# If we have a listlike key, _check_indexing_error will raise\u001b[39;00m\n\u001b[1;32m   3800\u001b[0m     \u001b[38;5;66;03m#  InvalidIndexError. Otherwise we fall through and re-raise\u001b[39;00m\n\u001b[1;32m   3801\u001b[0m     \u001b[38;5;66;03m#  the TypeError.\u001b[39;00m\n\u001b[1;32m   3802\u001b[0m     \u001b[38;5;28mself\u001b[39m\u001b[38;5;241m.\u001b[39m_check_indexing_error(key)\n",
      "\u001b[0;31mKeyError\u001b[0m: 'Area'"
     ]
    }
   ],
   "source": [
    "import matplotlib.pyplot as plt\n",
    "\n",
    "# Get unique regions\n",
    "regions = route['Area'].unique()\n",
    "\n",
    "# Define colors for each region\n",
    "colors = ['red', 'green', 'blue', 'orange', 'purple', 'cyan', 'magenta', 'yellow', 'black', 'brown']\n",
    "\n",
    "# Plotting\n",
    "plt.figure(figsize=(10, 6))\n",
    "for i, region in enumerate(regions):\n",
    "    region_df = route[route['Area'] == region]\n",
    "    plt.scatter(region_route['Departure total duration'], region_route['Return total duration'], color=colors[i], alpha=0.5, label=region)\n",
    "\n",
    "plt.title('Departure vs. Return Duration')\n",
    "plt.xlabel('Departure Total Duration')\n",
    "plt.ylabel('Return Total Duration')\n",
    "plt.grid(True)\n",
    "plt.legend()\n",
    "plt.tight_layout()\n",
    "plt.show()"
   ]
  },
  {
   "cell_type": "code",
   "execution_count": 17,
   "id": "d82f50b5-a6d3-48ff-9b5e-1f291161185e",
   "metadata": {
    "tags": []
   },
   "outputs": [
    {
     "ename": "FileNotFoundError",
     "evalue": "[Errno 2] No such file or directory: 'Group project/Espoo.csv'",
     "output_type": "error",
     "traceback": [
      "\u001b[0;31m---------------------------------------------------------------------------\u001b[0m",
      "\u001b[0;31mFileNotFoundError\u001b[0m                         Traceback (most recent call last)",
      "Cell \u001b[0;32mIn[17], line 5\u001b[0m\n\u001b[1;32m      2\u001b[0m \u001b[38;5;28;01mimport\u001b[39;00m \u001b[38;5;21;01mmatplotlib\u001b[39;00m\u001b[38;5;21;01m.\u001b[39;00m\u001b[38;5;21;01mpyplot\u001b[39;00m \u001b[38;5;28;01mas\u001b[39;00m \u001b[38;5;21;01mplt\u001b[39;00m\n\u001b[1;32m      4\u001b[0m \u001b[38;5;66;03m# Read the CSV file into a DataFrame\u001b[39;00m\n\u001b[0;32m----> 5\u001b[0m espoo_pop \u001b[38;5;241m=\u001b[39m \u001b[43mpd\u001b[49m\u001b[38;5;241;43m.\u001b[39;49m\u001b[43mread_csv\u001b[49m\u001b[43m(\u001b[49m\u001b[38;5;124;43m\"\u001b[39;49m\u001b[38;5;124;43mGroup project/Espoo.csv\u001b[39;49m\u001b[38;5;124;43m\"\u001b[39;49m\u001b[43m)\u001b[49m\n\u001b[1;32m      7\u001b[0m \u001b[38;5;66;03m# Set the region names as index\u001b[39;00m\n\u001b[1;32m      8\u001b[0m espoo_pop\u001b[38;5;241m.\u001b[39mset_index(espoo_pop\u001b[38;5;241m.\u001b[39mcolumns[\u001b[38;5;241m0\u001b[39m], inplace\u001b[38;5;241m=\u001b[39m\u001b[38;5;28;01mTrue\u001b[39;00m)\n",
      "File \u001b[0;32m/opt/software/lib/python3.10/site-packages/pandas/io/parsers/readers.py:948\u001b[0m, in \u001b[0;36mread_csv\u001b[0;34m(filepath_or_buffer, sep, delimiter, header, names, index_col, usecols, dtype, engine, converters, true_values, false_values, skipinitialspace, skiprows, skipfooter, nrows, na_values, keep_default_na, na_filter, verbose, skip_blank_lines, parse_dates, infer_datetime_format, keep_date_col, date_parser, date_format, dayfirst, cache_dates, iterator, chunksize, compression, thousands, decimal, lineterminator, quotechar, quoting, doublequote, escapechar, comment, encoding, encoding_errors, dialect, on_bad_lines, delim_whitespace, low_memory, memory_map, float_precision, storage_options, dtype_backend)\u001b[0m\n\u001b[1;32m    935\u001b[0m kwds_defaults \u001b[38;5;241m=\u001b[39m _refine_defaults_read(\n\u001b[1;32m    936\u001b[0m     dialect,\n\u001b[1;32m    937\u001b[0m     delimiter,\n\u001b[0;32m   (...)\u001b[0m\n\u001b[1;32m    944\u001b[0m     dtype_backend\u001b[38;5;241m=\u001b[39mdtype_backend,\n\u001b[1;32m    945\u001b[0m )\n\u001b[1;32m    946\u001b[0m kwds\u001b[38;5;241m.\u001b[39mupdate(kwds_defaults)\n\u001b[0;32m--> 948\u001b[0m \u001b[38;5;28;01mreturn\u001b[39;00m \u001b[43m_read\u001b[49m\u001b[43m(\u001b[49m\u001b[43mfilepath_or_buffer\u001b[49m\u001b[43m,\u001b[49m\u001b[43m \u001b[49m\u001b[43mkwds\u001b[49m\u001b[43m)\u001b[49m\n",
      "File \u001b[0;32m/opt/software/lib/python3.10/site-packages/pandas/io/parsers/readers.py:611\u001b[0m, in \u001b[0;36m_read\u001b[0;34m(filepath_or_buffer, kwds)\u001b[0m\n\u001b[1;32m    608\u001b[0m _validate_names(kwds\u001b[38;5;241m.\u001b[39mget(\u001b[38;5;124m\"\u001b[39m\u001b[38;5;124mnames\u001b[39m\u001b[38;5;124m\"\u001b[39m, \u001b[38;5;28;01mNone\u001b[39;00m))\n\u001b[1;32m    610\u001b[0m \u001b[38;5;66;03m# Create the parser.\u001b[39;00m\n\u001b[0;32m--> 611\u001b[0m parser \u001b[38;5;241m=\u001b[39m \u001b[43mTextFileReader\u001b[49m\u001b[43m(\u001b[49m\u001b[43mfilepath_or_buffer\u001b[49m\u001b[43m,\u001b[49m\u001b[43m \u001b[49m\u001b[38;5;241;43m*\u001b[39;49m\u001b[38;5;241;43m*\u001b[39;49m\u001b[43mkwds\u001b[49m\u001b[43m)\u001b[49m\n\u001b[1;32m    613\u001b[0m \u001b[38;5;28;01mif\u001b[39;00m chunksize \u001b[38;5;129;01mor\u001b[39;00m iterator:\n\u001b[1;32m    614\u001b[0m     \u001b[38;5;28;01mreturn\u001b[39;00m parser\n",
      "File \u001b[0;32m/opt/software/lib/python3.10/site-packages/pandas/io/parsers/readers.py:1448\u001b[0m, in \u001b[0;36mTextFileReader.__init__\u001b[0;34m(self, f, engine, **kwds)\u001b[0m\n\u001b[1;32m   1445\u001b[0m     \u001b[38;5;28mself\u001b[39m\u001b[38;5;241m.\u001b[39moptions[\u001b[38;5;124m\"\u001b[39m\u001b[38;5;124mhas_index_names\u001b[39m\u001b[38;5;124m\"\u001b[39m] \u001b[38;5;241m=\u001b[39m kwds[\u001b[38;5;124m\"\u001b[39m\u001b[38;5;124mhas_index_names\u001b[39m\u001b[38;5;124m\"\u001b[39m]\n\u001b[1;32m   1447\u001b[0m \u001b[38;5;28mself\u001b[39m\u001b[38;5;241m.\u001b[39mhandles: IOHandles \u001b[38;5;241m|\u001b[39m \u001b[38;5;28;01mNone\u001b[39;00m \u001b[38;5;241m=\u001b[39m \u001b[38;5;28;01mNone\u001b[39;00m\n\u001b[0;32m-> 1448\u001b[0m \u001b[38;5;28mself\u001b[39m\u001b[38;5;241m.\u001b[39m_engine \u001b[38;5;241m=\u001b[39m \u001b[38;5;28;43mself\u001b[39;49m\u001b[38;5;241;43m.\u001b[39;49m\u001b[43m_make_engine\u001b[49m\u001b[43m(\u001b[49m\u001b[43mf\u001b[49m\u001b[43m,\u001b[49m\u001b[43m \u001b[49m\u001b[38;5;28;43mself\u001b[39;49m\u001b[38;5;241;43m.\u001b[39;49m\u001b[43mengine\u001b[49m\u001b[43m)\u001b[49m\n",
      "File \u001b[0;32m/opt/software/lib/python3.10/site-packages/pandas/io/parsers/readers.py:1705\u001b[0m, in \u001b[0;36mTextFileReader._make_engine\u001b[0;34m(self, f, engine)\u001b[0m\n\u001b[1;32m   1703\u001b[0m     \u001b[38;5;28;01mif\u001b[39;00m \u001b[38;5;124m\"\u001b[39m\u001b[38;5;124mb\u001b[39m\u001b[38;5;124m\"\u001b[39m \u001b[38;5;129;01mnot\u001b[39;00m \u001b[38;5;129;01min\u001b[39;00m mode:\n\u001b[1;32m   1704\u001b[0m         mode \u001b[38;5;241m+\u001b[39m\u001b[38;5;241m=\u001b[39m \u001b[38;5;124m\"\u001b[39m\u001b[38;5;124mb\u001b[39m\u001b[38;5;124m\"\u001b[39m\n\u001b[0;32m-> 1705\u001b[0m \u001b[38;5;28mself\u001b[39m\u001b[38;5;241m.\u001b[39mhandles \u001b[38;5;241m=\u001b[39m \u001b[43mget_handle\u001b[49m\u001b[43m(\u001b[49m\n\u001b[1;32m   1706\u001b[0m \u001b[43m    \u001b[49m\u001b[43mf\u001b[49m\u001b[43m,\u001b[49m\n\u001b[1;32m   1707\u001b[0m \u001b[43m    \u001b[49m\u001b[43mmode\u001b[49m\u001b[43m,\u001b[49m\n\u001b[1;32m   1708\u001b[0m \u001b[43m    \u001b[49m\u001b[43mencoding\u001b[49m\u001b[38;5;241;43m=\u001b[39;49m\u001b[38;5;28;43mself\u001b[39;49m\u001b[38;5;241;43m.\u001b[39;49m\u001b[43moptions\u001b[49m\u001b[38;5;241;43m.\u001b[39;49m\u001b[43mget\u001b[49m\u001b[43m(\u001b[49m\u001b[38;5;124;43m\"\u001b[39;49m\u001b[38;5;124;43mencoding\u001b[39;49m\u001b[38;5;124;43m\"\u001b[39;49m\u001b[43m,\u001b[49m\u001b[43m \u001b[49m\u001b[38;5;28;43;01mNone\u001b[39;49;00m\u001b[43m)\u001b[49m\u001b[43m,\u001b[49m\n\u001b[1;32m   1709\u001b[0m \u001b[43m    \u001b[49m\u001b[43mcompression\u001b[49m\u001b[38;5;241;43m=\u001b[39;49m\u001b[38;5;28;43mself\u001b[39;49m\u001b[38;5;241;43m.\u001b[39;49m\u001b[43moptions\u001b[49m\u001b[38;5;241;43m.\u001b[39;49m\u001b[43mget\u001b[49m\u001b[43m(\u001b[49m\u001b[38;5;124;43m\"\u001b[39;49m\u001b[38;5;124;43mcompression\u001b[39;49m\u001b[38;5;124;43m\"\u001b[39;49m\u001b[43m,\u001b[49m\u001b[43m \u001b[49m\u001b[38;5;28;43;01mNone\u001b[39;49;00m\u001b[43m)\u001b[49m\u001b[43m,\u001b[49m\n\u001b[1;32m   1710\u001b[0m \u001b[43m    \u001b[49m\u001b[43mmemory_map\u001b[49m\u001b[38;5;241;43m=\u001b[39;49m\u001b[38;5;28;43mself\u001b[39;49m\u001b[38;5;241;43m.\u001b[39;49m\u001b[43moptions\u001b[49m\u001b[38;5;241;43m.\u001b[39;49m\u001b[43mget\u001b[49m\u001b[43m(\u001b[49m\u001b[38;5;124;43m\"\u001b[39;49m\u001b[38;5;124;43mmemory_map\u001b[39;49m\u001b[38;5;124;43m\"\u001b[39;49m\u001b[43m,\u001b[49m\u001b[43m \u001b[49m\u001b[38;5;28;43;01mFalse\u001b[39;49;00m\u001b[43m)\u001b[49m\u001b[43m,\u001b[49m\n\u001b[1;32m   1711\u001b[0m \u001b[43m    \u001b[49m\u001b[43mis_text\u001b[49m\u001b[38;5;241;43m=\u001b[39;49m\u001b[43mis_text\u001b[49m\u001b[43m,\u001b[49m\n\u001b[1;32m   1712\u001b[0m \u001b[43m    \u001b[49m\u001b[43merrors\u001b[49m\u001b[38;5;241;43m=\u001b[39;49m\u001b[38;5;28;43mself\u001b[39;49m\u001b[38;5;241;43m.\u001b[39;49m\u001b[43moptions\u001b[49m\u001b[38;5;241;43m.\u001b[39;49m\u001b[43mget\u001b[49m\u001b[43m(\u001b[49m\u001b[38;5;124;43m\"\u001b[39;49m\u001b[38;5;124;43mencoding_errors\u001b[39;49m\u001b[38;5;124;43m\"\u001b[39;49m\u001b[43m,\u001b[49m\u001b[43m \u001b[49m\u001b[38;5;124;43m\"\u001b[39;49m\u001b[38;5;124;43mstrict\u001b[39;49m\u001b[38;5;124;43m\"\u001b[39;49m\u001b[43m)\u001b[49m\u001b[43m,\u001b[49m\n\u001b[1;32m   1713\u001b[0m \u001b[43m    \u001b[49m\u001b[43mstorage_options\u001b[49m\u001b[38;5;241;43m=\u001b[39;49m\u001b[38;5;28;43mself\u001b[39;49m\u001b[38;5;241;43m.\u001b[39;49m\u001b[43moptions\u001b[49m\u001b[38;5;241;43m.\u001b[39;49m\u001b[43mget\u001b[49m\u001b[43m(\u001b[49m\u001b[38;5;124;43m\"\u001b[39;49m\u001b[38;5;124;43mstorage_options\u001b[39;49m\u001b[38;5;124;43m\"\u001b[39;49m\u001b[43m,\u001b[49m\u001b[43m \u001b[49m\u001b[38;5;28;43;01mNone\u001b[39;49;00m\u001b[43m)\u001b[49m\u001b[43m,\u001b[49m\n\u001b[1;32m   1714\u001b[0m \u001b[43m\u001b[49m\u001b[43m)\u001b[49m\n\u001b[1;32m   1715\u001b[0m \u001b[38;5;28;01massert\u001b[39;00m \u001b[38;5;28mself\u001b[39m\u001b[38;5;241m.\u001b[39mhandles \u001b[38;5;129;01mis\u001b[39;00m \u001b[38;5;129;01mnot\u001b[39;00m \u001b[38;5;28;01mNone\u001b[39;00m\n\u001b[1;32m   1716\u001b[0m f \u001b[38;5;241m=\u001b[39m \u001b[38;5;28mself\u001b[39m\u001b[38;5;241m.\u001b[39mhandles\u001b[38;5;241m.\u001b[39mhandle\n",
      "File \u001b[0;32m/opt/software/lib/python3.10/site-packages/pandas/io/common.py:863\u001b[0m, in \u001b[0;36mget_handle\u001b[0;34m(path_or_buf, mode, encoding, compression, memory_map, is_text, errors, storage_options)\u001b[0m\n\u001b[1;32m    858\u001b[0m \u001b[38;5;28;01melif\u001b[39;00m \u001b[38;5;28misinstance\u001b[39m(handle, \u001b[38;5;28mstr\u001b[39m):\n\u001b[1;32m    859\u001b[0m     \u001b[38;5;66;03m# Check whether the filename is to be opened in binary mode.\u001b[39;00m\n\u001b[1;32m    860\u001b[0m     \u001b[38;5;66;03m# Binary mode does not support 'encoding' and 'newline'.\u001b[39;00m\n\u001b[1;32m    861\u001b[0m     \u001b[38;5;28;01mif\u001b[39;00m ioargs\u001b[38;5;241m.\u001b[39mencoding \u001b[38;5;129;01mand\u001b[39;00m \u001b[38;5;124m\"\u001b[39m\u001b[38;5;124mb\u001b[39m\u001b[38;5;124m\"\u001b[39m \u001b[38;5;129;01mnot\u001b[39;00m \u001b[38;5;129;01min\u001b[39;00m ioargs\u001b[38;5;241m.\u001b[39mmode:\n\u001b[1;32m    862\u001b[0m         \u001b[38;5;66;03m# Encoding\u001b[39;00m\n\u001b[0;32m--> 863\u001b[0m         handle \u001b[38;5;241m=\u001b[39m \u001b[38;5;28;43mopen\u001b[39;49m\u001b[43m(\u001b[49m\n\u001b[1;32m    864\u001b[0m \u001b[43m            \u001b[49m\u001b[43mhandle\u001b[49m\u001b[43m,\u001b[49m\n\u001b[1;32m    865\u001b[0m \u001b[43m            \u001b[49m\u001b[43mioargs\u001b[49m\u001b[38;5;241;43m.\u001b[39;49m\u001b[43mmode\u001b[49m\u001b[43m,\u001b[49m\n\u001b[1;32m    866\u001b[0m \u001b[43m            \u001b[49m\u001b[43mencoding\u001b[49m\u001b[38;5;241;43m=\u001b[39;49m\u001b[43mioargs\u001b[49m\u001b[38;5;241;43m.\u001b[39;49m\u001b[43mencoding\u001b[49m\u001b[43m,\u001b[49m\n\u001b[1;32m    867\u001b[0m \u001b[43m            \u001b[49m\u001b[43merrors\u001b[49m\u001b[38;5;241;43m=\u001b[39;49m\u001b[43merrors\u001b[49m\u001b[43m,\u001b[49m\n\u001b[1;32m    868\u001b[0m \u001b[43m            \u001b[49m\u001b[43mnewline\u001b[49m\u001b[38;5;241;43m=\u001b[39;49m\u001b[38;5;124;43m\"\u001b[39;49m\u001b[38;5;124;43m\"\u001b[39;49m\u001b[43m,\u001b[49m\n\u001b[1;32m    869\u001b[0m \u001b[43m        \u001b[49m\u001b[43m)\u001b[49m\n\u001b[1;32m    870\u001b[0m     \u001b[38;5;28;01melse\u001b[39;00m:\n\u001b[1;32m    871\u001b[0m         \u001b[38;5;66;03m# Binary mode\u001b[39;00m\n\u001b[1;32m    872\u001b[0m         handle \u001b[38;5;241m=\u001b[39m \u001b[38;5;28mopen\u001b[39m(handle, ioargs\u001b[38;5;241m.\u001b[39mmode)\n",
      "\u001b[0;31mFileNotFoundError\u001b[0m: [Errno 2] No such file or directory: 'Group project/Espoo.csv'"
     ]
    }
   ],
   "source": [
    "import pandas as pd\n",
    "import matplotlib.pyplot as plt\n",
    "\n",
    "# Read the CSV file into a DataFrame\n",
    "espoo_pop = pd.read_csv(\"Group project/Espoo.csv\")\n",
    "\n",
    "# Set the region names as index\n",
    "espoo_pop.set_index(espoo_pop.columns[0], inplace=True)\n",
    "\n",
    "# Remove the last column (Total population)\n",
    "espoo_pop = espoo_pop.iloc[:, :-1]\n",
    "\n",
    "# Convert string numbers to integers and convert to thousands for plotting\n",
    "espoo_pop = espoo_pop.astype(int) / 1000\n",
    "\n",
    "# Rename the regions\n",
    "region_names = {\n",
    "    '049 1 Suur-Leppävaara': 'Leppävaara',\n",
    "    '049 2 Suur-Tapiola': 'Tapiola',\n",
    "    '049 3 Suur-Matinkylä': 'Matinkylä',\n",
    "    '049 4 Suur-Espoonlahti': 'Espoonlahti',\n",
    "    '049 5 Suur-Kauklahti': 'Kauklahti',\n",
    "    '049 6 Vanha-Espoo': 'Vanha-Espoo',\n",
    "    '049 7 Pohjois-Espoo': 'Pohjois-Espoo',\n",
    "    '049 999 Muut': 'Other'\n",
    "}\n",
    "\n",
    "espoo_pop.rename(index=region_names, inplace=True)\n",
    "\n",
    "# Reverse the order of rows\n",
    "espoo_pop = espoo_pop.iloc[::-1]\n",
    "\n",
    "# Plotting\n",
    "plt.figure(figsize=(10, 6))\n",
    "\n",
    "# Plot the horizontal stacked bar chart\n",
    "espoo_pop.plot(kind='barh', stacked=True)\n",
    "\n",
    "plt.title('Population distribution by region and age group in Espoo in 2021')\n",
    "plt.xlabel('Population (thousands)')\n",
    "plt.ylabel('Region')\n",
    "plt.legend(title='Age group', bbox_to_anchor=(1.05, 1), loc='upper left')\n",
    "plt.tight_layout()\n",
    "plt.show()"
   ]
  },
  {
   "cell_type": "code",
   "execution_count": null,
   "id": "dcfa5114-db45-4ef0-ad15-91901512e9c2",
   "metadata": {
    "tags": []
   },
   "outputs": [],
   "source": [
    "import pandas as pd\n",
    "import matplotlib.pyplot as plt\n",
    "\n",
    "# Read the CSV file into a DataFrame\n",
    "hel_pop = pd.read_csv(\"Group project/Helsinki.csv\")\n",
    "\n",
    "# Set the region names as index\n",
    "hel_pop.set_index(hel_pop.columns[0], inplace=True)\n",
    "\n",
    "# Remove the last column (Total)\n",
    "hel_pop = hel_pop.iloc[:, :-1]\n",
    "\n",
    "# Convert string numbers to integers and convert to thousands for plotting\n",
    "hel_pop = hel_pop.astype(int) / 1000\n",
    "\n",
    "# Rename the regions\n",
    "region_names = {\n",
    "    '091 1 Eteläinen suurpiiri': 'Southern',\n",
    "    '091 2 Läntinen suurpiiri': 'Western',\n",
    "    '091 3 Keskinen suurpiiri': 'Central',\n",
    "    '091 4 Pohjoinen suurpiiri': 'Northern',\n",
    "    '091 5 Koillinen suurpiiri': 'Northeastern',\n",
    "    '091 6 Kaakkoinen suurpiiri': 'Southeastern',\n",
    "    '091 7 Itäinen suurpiiri': 'Eastern',\n",
    "    '091 8 Östersundomin suurpiiri': 'Östersundom',\n",
    "    '091 999 Muut': 'Other'\n",
    "}\n",
    "\n",
    "hel_pop.rename(index=region_names, inplace=True)\n",
    "\n",
    "# Reverse the order of rows\n",
    "hel_pop = hel_pop.iloc[::-1]\n",
    "\n",
    "# Plotting\n",
    "plt.figure(figsize=(10, 6))\n",
    "\n",
    "# Plot the horizontal stacked bar chart\n",
    "hel_pop.plot(kind='barh', stacked=True)\n",
    "\n",
    "plt.title('Population distribution by region and age group in Helsinki in 2021')\n",
    "plt.xlabel('Population (thousands)')\n",
    "plt.ylabel('Region')\n",
    "plt.legend(title='Age group', bbox_to_anchor=(1.05, 1), loc='upper left')\n",
    "plt.tight_layout()\n",
    "plt.show();"
   ]
  },
  {
   "cell_type": "code",
   "execution_count": null,
   "id": "924f6e1c-0d9f-4aaa-a41a-d7dce53d2bc6",
   "metadata": {
    "tags": []
   },
   "outputs": [],
   "source": [
    "route = pd.read_csv(\"Group project/route.csv\")\n",
    "route"
   ]
  },
  {
   "cell_type": "code",
   "execution_count": 18,
   "id": "c54cf5ca-3486-40cc-ac9b-5530f5c5ef53",
   "metadata": {
    "tags": []
   },
   "outputs": [
    {
     "ename": "FileNotFoundError",
     "evalue": "[Errno 2] No such file or directory: 'Group project/subregions.csv'",
     "output_type": "error",
     "traceback": [
      "\u001b[0;31m---------------------------------------------------------------------------\u001b[0m",
      "\u001b[0;31mFileNotFoundError\u001b[0m                         Traceback (most recent call last)",
      "Cell \u001b[0;32mIn[18], line 3\u001b[0m\n\u001b[1;32m      1\u001b[0m \u001b[38;5;66;03m# not run this code\u001b[39;00m\n\u001b[1;32m      2\u001b[0m \u001b[38;5;28;01mimport\u001b[39;00m \u001b[38;5;21;01mre\u001b[39;00m\n\u001b[0;32m----> 3\u001b[0m subregions \u001b[38;5;241m=\u001b[39m \u001b[43mpd\u001b[49m\u001b[38;5;241;43m.\u001b[39;49m\u001b[43mread_csv\u001b[49m\u001b[43m(\u001b[49m\u001b[38;5;124;43m\"\u001b[39;49m\u001b[38;5;124;43mGroup project/subregions.csv\u001b[39;49m\u001b[38;5;124;43m\"\u001b[39;49m\u001b[43m)\u001b[49m\n\u001b[1;32m      4\u001b[0m areas \u001b[38;5;241m=\u001b[39m []\n\u001b[1;32m      5\u001b[0m \u001b[38;5;28;01mfor\u001b[39;00m i, row \u001b[38;5;129;01min\u001b[39;00m subregions\u001b[38;5;241m.\u001b[39miterrows():\n",
      "File \u001b[0;32m/opt/software/lib/python3.10/site-packages/pandas/io/parsers/readers.py:948\u001b[0m, in \u001b[0;36mread_csv\u001b[0;34m(filepath_or_buffer, sep, delimiter, header, names, index_col, usecols, dtype, engine, converters, true_values, false_values, skipinitialspace, skiprows, skipfooter, nrows, na_values, keep_default_na, na_filter, verbose, skip_blank_lines, parse_dates, infer_datetime_format, keep_date_col, date_parser, date_format, dayfirst, cache_dates, iterator, chunksize, compression, thousands, decimal, lineterminator, quotechar, quoting, doublequote, escapechar, comment, encoding, encoding_errors, dialect, on_bad_lines, delim_whitespace, low_memory, memory_map, float_precision, storage_options, dtype_backend)\u001b[0m\n\u001b[1;32m    935\u001b[0m kwds_defaults \u001b[38;5;241m=\u001b[39m _refine_defaults_read(\n\u001b[1;32m    936\u001b[0m     dialect,\n\u001b[1;32m    937\u001b[0m     delimiter,\n\u001b[0;32m   (...)\u001b[0m\n\u001b[1;32m    944\u001b[0m     dtype_backend\u001b[38;5;241m=\u001b[39mdtype_backend,\n\u001b[1;32m    945\u001b[0m )\n\u001b[1;32m    946\u001b[0m kwds\u001b[38;5;241m.\u001b[39mupdate(kwds_defaults)\n\u001b[0;32m--> 948\u001b[0m \u001b[38;5;28;01mreturn\u001b[39;00m \u001b[43m_read\u001b[49m\u001b[43m(\u001b[49m\u001b[43mfilepath_or_buffer\u001b[49m\u001b[43m,\u001b[49m\u001b[43m \u001b[49m\u001b[43mkwds\u001b[49m\u001b[43m)\u001b[49m\n",
      "File \u001b[0;32m/opt/software/lib/python3.10/site-packages/pandas/io/parsers/readers.py:611\u001b[0m, in \u001b[0;36m_read\u001b[0;34m(filepath_or_buffer, kwds)\u001b[0m\n\u001b[1;32m    608\u001b[0m _validate_names(kwds\u001b[38;5;241m.\u001b[39mget(\u001b[38;5;124m\"\u001b[39m\u001b[38;5;124mnames\u001b[39m\u001b[38;5;124m\"\u001b[39m, \u001b[38;5;28;01mNone\u001b[39;00m))\n\u001b[1;32m    610\u001b[0m \u001b[38;5;66;03m# Create the parser.\u001b[39;00m\n\u001b[0;32m--> 611\u001b[0m parser \u001b[38;5;241m=\u001b[39m \u001b[43mTextFileReader\u001b[49m\u001b[43m(\u001b[49m\u001b[43mfilepath_or_buffer\u001b[49m\u001b[43m,\u001b[49m\u001b[43m \u001b[49m\u001b[38;5;241;43m*\u001b[39;49m\u001b[38;5;241;43m*\u001b[39;49m\u001b[43mkwds\u001b[49m\u001b[43m)\u001b[49m\n\u001b[1;32m    613\u001b[0m \u001b[38;5;28;01mif\u001b[39;00m chunksize \u001b[38;5;129;01mor\u001b[39;00m iterator:\n\u001b[1;32m    614\u001b[0m     \u001b[38;5;28;01mreturn\u001b[39;00m parser\n",
      "File \u001b[0;32m/opt/software/lib/python3.10/site-packages/pandas/io/parsers/readers.py:1448\u001b[0m, in \u001b[0;36mTextFileReader.__init__\u001b[0;34m(self, f, engine, **kwds)\u001b[0m\n\u001b[1;32m   1445\u001b[0m     \u001b[38;5;28mself\u001b[39m\u001b[38;5;241m.\u001b[39moptions[\u001b[38;5;124m\"\u001b[39m\u001b[38;5;124mhas_index_names\u001b[39m\u001b[38;5;124m\"\u001b[39m] \u001b[38;5;241m=\u001b[39m kwds[\u001b[38;5;124m\"\u001b[39m\u001b[38;5;124mhas_index_names\u001b[39m\u001b[38;5;124m\"\u001b[39m]\n\u001b[1;32m   1447\u001b[0m \u001b[38;5;28mself\u001b[39m\u001b[38;5;241m.\u001b[39mhandles: IOHandles \u001b[38;5;241m|\u001b[39m \u001b[38;5;28;01mNone\u001b[39;00m \u001b[38;5;241m=\u001b[39m \u001b[38;5;28;01mNone\u001b[39;00m\n\u001b[0;32m-> 1448\u001b[0m \u001b[38;5;28mself\u001b[39m\u001b[38;5;241m.\u001b[39m_engine \u001b[38;5;241m=\u001b[39m \u001b[38;5;28;43mself\u001b[39;49m\u001b[38;5;241;43m.\u001b[39;49m\u001b[43m_make_engine\u001b[49m\u001b[43m(\u001b[49m\u001b[43mf\u001b[49m\u001b[43m,\u001b[49m\u001b[43m \u001b[49m\u001b[38;5;28;43mself\u001b[39;49m\u001b[38;5;241;43m.\u001b[39;49m\u001b[43mengine\u001b[49m\u001b[43m)\u001b[49m\n",
      "File \u001b[0;32m/opt/software/lib/python3.10/site-packages/pandas/io/parsers/readers.py:1705\u001b[0m, in \u001b[0;36mTextFileReader._make_engine\u001b[0;34m(self, f, engine)\u001b[0m\n\u001b[1;32m   1703\u001b[0m     \u001b[38;5;28;01mif\u001b[39;00m \u001b[38;5;124m\"\u001b[39m\u001b[38;5;124mb\u001b[39m\u001b[38;5;124m\"\u001b[39m \u001b[38;5;129;01mnot\u001b[39;00m \u001b[38;5;129;01min\u001b[39;00m mode:\n\u001b[1;32m   1704\u001b[0m         mode \u001b[38;5;241m+\u001b[39m\u001b[38;5;241m=\u001b[39m \u001b[38;5;124m\"\u001b[39m\u001b[38;5;124mb\u001b[39m\u001b[38;5;124m\"\u001b[39m\n\u001b[0;32m-> 1705\u001b[0m \u001b[38;5;28mself\u001b[39m\u001b[38;5;241m.\u001b[39mhandles \u001b[38;5;241m=\u001b[39m \u001b[43mget_handle\u001b[49m\u001b[43m(\u001b[49m\n\u001b[1;32m   1706\u001b[0m \u001b[43m    \u001b[49m\u001b[43mf\u001b[49m\u001b[43m,\u001b[49m\n\u001b[1;32m   1707\u001b[0m \u001b[43m    \u001b[49m\u001b[43mmode\u001b[49m\u001b[43m,\u001b[49m\n\u001b[1;32m   1708\u001b[0m \u001b[43m    \u001b[49m\u001b[43mencoding\u001b[49m\u001b[38;5;241;43m=\u001b[39;49m\u001b[38;5;28;43mself\u001b[39;49m\u001b[38;5;241;43m.\u001b[39;49m\u001b[43moptions\u001b[49m\u001b[38;5;241;43m.\u001b[39;49m\u001b[43mget\u001b[49m\u001b[43m(\u001b[49m\u001b[38;5;124;43m\"\u001b[39;49m\u001b[38;5;124;43mencoding\u001b[39;49m\u001b[38;5;124;43m\"\u001b[39;49m\u001b[43m,\u001b[49m\u001b[43m \u001b[49m\u001b[38;5;28;43;01mNone\u001b[39;49;00m\u001b[43m)\u001b[49m\u001b[43m,\u001b[49m\n\u001b[1;32m   1709\u001b[0m \u001b[43m    \u001b[49m\u001b[43mcompression\u001b[49m\u001b[38;5;241;43m=\u001b[39;49m\u001b[38;5;28;43mself\u001b[39;49m\u001b[38;5;241;43m.\u001b[39;49m\u001b[43moptions\u001b[49m\u001b[38;5;241;43m.\u001b[39;49m\u001b[43mget\u001b[49m\u001b[43m(\u001b[49m\u001b[38;5;124;43m\"\u001b[39;49m\u001b[38;5;124;43mcompression\u001b[39;49m\u001b[38;5;124;43m\"\u001b[39;49m\u001b[43m,\u001b[49m\u001b[43m \u001b[49m\u001b[38;5;28;43;01mNone\u001b[39;49;00m\u001b[43m)\u001b[49m\u001b[43m,\u001b[49m\n\u001b[1;32m   1710\u001b[0m \u001b[43m    \u001b[49m\u001b[43mmemory_map\u001b[49m\u001b[38;5;241;43m=\u001b[39;49m\u001b[38;5;28;43mself\u001b[39;49m\u001b[38;5;241;43m.\u001b[39;49m\u001b[43moptions\u001b[49m\u001b[38;5;241;43m.\u001b[39;49m\u001b[43mget\u001b[49m\u001b[43m(\u001b[49m\u001b[38;5;124;43m\"\u001b[39;49m\u001b[38;5;124;43mmemory_map\u001b[39;49m\u001b[38;5;124;43m\"\u001b[39;49m\u001b[43m,\u001b[49m\u001b[43m \u001b[49m\u001b[38;5;28;43;01mFalse\u001b[39;49;00m\u001b[43m)\u001b[49m\u001b[43m,\u001b[49m\n\u001b[1;32m   1711\u001b[0m \u001b[43m    \u001b[49m\u001b[43mis_text\u001b[49m\u001b[38;5;241;43m=\u001b[39;49m\u001b[43mis_text\u001b[49m\u001b[43m,\u001b[49m\n\u001b[1;32m   1712\u001b[0m \u001b[43m    \u001b[49m\u001b[43merrors\u001b[49m\u001b[38;5;241;43m=\u001b[39;49m\u001b[38;5;28;43mself\u001b[39;49m\u001b[38;5;241;43m.\u001b[39;49m\u001b[43moptions\u001b[49m\u001b[38;5;241;43m.\u001b[39;49m\u001b[43mget\u001b[49m\u001b[43m(\u001b[49m\u001b[38;5;124;43m\"\u001b[39;49m\u001b[38;5;124;43mencoding_errors\u001b[39;49m\u001b[38;5;124;43m\"\u001b[39;49m\u001b[43m,\u001b[49m\u001b[43m \u001b[49m\u001b[38;5;124;43m\"\u001b[39;49m\u001b[38;5;124;43mstrict\u001b[39;49m\u001b[38;5;124;43m\"\u001b[39;49m\u001b[43m)\u001b[49m\u001b[43m,\u001b[49m\n\u001b[1;32m   1713\u001b[0m \u001b[43m    \u001b[49m\u001b[43mstorage_options\u001b[49m\u001b[38;5;241;43m=\u001b[39;49m\u001b[38;5;28;43mself\u001b[39;49m\u001b[38;5;241;43m.\u001b[39;49m\u001b[43moptions\u001b[49m\u001b[38;5;241;43m.\u001b[39;49m\u001b[43mget\u001b[49m\u001b[43m(\u001b[49m\u001b[38;5;124;43m\"\u001b[39;49m\u001b[38;5;124;43mstorage_options\u001b[39;49m\u001b[38;5;124;43m\"\u001b[39;49m\u001b[43m,\u001b[49m\u001b[43m \u001b[49m\u001b[38;5;28;43;01mNone\u001b[39;49;00m\u001b[43m)\u001b[49m\u001b[43m,\u001b[49m\n\u001b[1;32m   1714\u001b[0m \u001b[43m\u001b[49m\u001b[43m)\u001b[49m\n\u001b[1;32m   1715\u001b[0m \u001b[38;5;28;01massert\u001b[39;00m \u001b[38;5;28mself\u001b[39m\u001b[38;5;241m.\u001b[39mhandles \u001b[38;5;129;01mis\u001b[39;00m \u001b[38;5;129;01mnot\u001b[39;00m \u001b[38;5;28;01mNone\u001b[39;00m\n\u001b[1;32m   1716\u001b[0m f \u001b[38;5;241m=\u001b[39m \u001b[38;5;28mself\u001b[39m\u001b[38;5;241m.\u001b[39mhandles\u001b[38;5;241m.\u001b[39mhandle\n",
      "File \u001b[0;32m/opt/software/lib/python3.10/site-packages/pandas/io/common.py:863\u001b[0m, in \u001b[0;36mget_handle\u001b[0;34m(path_or_buf, mode, encoding, compression, memory_map, is_text, errors, storage_options)\u001b[0m\n\u001b[1;32m    858\u001b[0m \u001b[38;5;28;01melif\u001b[39;00m \u001b[38;5;28misinstance\u001b[39m(handle, \u001b[38;5;28mstr\u001b[39m):\n\u001b[1;32m    859\u001b[0m     \u001b[38;5;66;03m# Check whether the filename is to be opened in binary mode.\u001b[39;00m\n\u001b[1;32m    860\u001b[0m     \u001b[38;5;66;03m# Binary mode does not support 'encoding' and 'newline'.\u001b[39;00m\n\u001b[1;32m    861\u001b[0m     \u001b[38;5;28;01mif\u001b[39;00m ioargs\u001b[38;5;241m.\u001b[39mencoding \u001b[38;5;129;01mand\u001b[39;00m \u001b[38;5;124m\"\u001b[39m\u001b[38;5;124mb\u001b[39m\u001b[38;5;124m\"\u001b[39m \u001b[38;5;129;01mnot\u001b[39;00m \u001b[38;5;129;01min\u001b[39;00m ioargs\u001b[38;5;241m.\u001b[39mmode:\n\u001b[1;32m    862\u001b[0m         \u001b[38;5;66;03m# Encoding\u001b[39;00m\n\u001b[0;32m--> 863\u001b[0m         handle \u001b[38;5;241m=\u001b[39m \u001b[38;5;28;43mopen\u001b[39;49m\u001b[43m(\u001b[49m\n\u001b[1;32m    864\u001b[0m \u001b[43m            \u001b[49m\u001b[43mhandle\u001b[49m\u001b[43m,\u001b[49m\n\u001b[1;32m    865\u001b[0m \u001b[43m            \u001b[49m\u001b[43mioargs\u001b[49m\u001b[38;5;241;43m.\u001b[39;49m\u001b[43mmode\u001b[49m\u001b[43m,\u001b[49m\n\u001b[1;32m    866\u001b[0m \u001b[43m            \u001b[49m\u001b[43mencoding\u001b[49m\u001b[38;5;241;43m=\u001b[39;49m\u001b[43mioargs\u001b[49m\u001b[38;5;241;43m.\u001b[39;49m\u001b[43mencoding\u001b[49m\u001b[43m,\u001b[49m\n\u001b[1;32m    867\u001b[0m \u001b[43m            \u001b[49m\u001b[43merrors\u001b[49m\u001b[38;5;241;43m=\u001b[39;49m\u001b[43merrors\u001b[49m\u001b[43m,\u001b[49m\n\u001b[1;32m    868\u001b[0m \u001b[43m            \u001b[49m\u001b[43mnewline\u001b[49m\u001b[38;5;241;43m=\u001b[39;49m\u001b[38;5;124;43m\"\u001b[39;49m\u001b[38;5;124;43m\"\u001b[39;49m\u001b[43m,\u001b[49m\n\u001b[1;32m    869\u001b[0m \u001b[43m        \u001b[49m\u001b[43m)\u001b[49m\n\u001b[1;32m    870\u001b[0m     \u001b[38;5;28;01melse\u001b[39;00m:\n\u001b[1;32m    871\u001b[0m         \u001b[38;5;66;03m# Binary mode\u001b[39;00m\n\u001b[1;32m    872\u001b[0m         handle \u001b[38;5;241m=\u001b[39m \u001b[38;5;28mopen\u001b[39m(handle, ioargs\u001b[38;5;241m.\u001b[39mmode)\n",
      "\u001b[0;31mFileNotFoundError\u001b[0m: [Errno 2] No such file or directory: 'Group project/subregions.csv'"
     ]
    }
   ],
   "source": [
    "# not run this code\n",
    "import re\n",
    "subregions = pd.read_csv(\"Group project/subregions.csv\")\n",
    "areas = []\n",
    "for i, row in subregions.iterrows():\n",
    "    area = re.sub(r'\\d+', '',str(row['Subregion 1']))\n",
    "    areas.append(area)\n",
    "subregions['Area']= areas\n",
    "subregions = subregions.drop(columns = ['Subregion 1'])\n"
   ]
  },
  {
   "cell_type": "code",
   "execution_count": 69,
   "id": "eea5f161-d77c-4b1f-b606-7eb588049584",
   "metadata": {
    "tags": []
   },
   "outputs": [
    {
     "data": {
      "text/html": [
       "<div>\n",
       "<style scoped>\n",
       "    .dataframe tbody tr th:only-of-type {\n",
       "        vertical-align: middle;\n",
       "    }\n",
       "\n",
       "    .dataframe tbody tr th {\n",
       "        vertical-align: top;\n",
       "    }\n",
       "\n",
       "    .dataframe thead th {\n",
       "        text-align: right;\n",
       "    }\n",
       "</style>\n",
       "<table border=\"1\" class=\"dataframe\">\n",
       "  <thead>\n",
       "    <tr style=\"text-align: right;\">\n",
       "      <th></th>\n",
       "      <th>Region</th>\n",
       "      <th>Subregion 2</th>\n",
       "      <th>Area</th>\n",
       "      <th>Subregion 2_count</th>\n",
       "    </tr>\n",
       "  </thead>\n",
       "  <tbody>\n",
       "    <tr>\n",
       "      <th>0</th>\n",
       "      <td>Espoo</td>\n",
       "      <td>049 11 Kanta-Leppävaara</td>\n",
       "      <td>Suur-Leppävaara</td>\n",
       "      <td>5</td>\n",
       "    </tr>\n",
       "    <tr>\n",
       "      <th>1</th>\n",
       "      <td>Espoo</td>\n",
       "      <td>049 13 Kilo-Karakallio</td>\n",
       "      <td>Suur-Leppävaara</td>\n",
       "      <td>5</td>\n",
       "    </tr>\n",
       "    <tr>\n",
       "      <th>2</th>\n",
       "      <td>Espoo</td>\n",
       "      <td>049 14 Laaksolahti</td>\n",
       "      <td>Suur-Leppävaara</td>\n",
       "      <td>5</td>\n",
       "    </tr>\n",
       "    <tr>\n",
       "      <th>3</th>\n",
       "      <td>Espoo</td>\n",
       "      <td>049 15 Viherlaakso-Lippajärvi</td>\n",
       "      <td>Suur-Leppävaara</td>\n",
       "      <td>5</td>\n",
       "    </tr>\n",
       "    <tr>\n",
       "      <th>4</th>\n",
       "      <td>Espoo</td>\n",
       "      <td>049 16 Sepänkylä</td>\n",
       "      <td>Suur-Leppävaara</td>\n",
       "      <td>5</td>\n",
       "    </tr>\n",
       "  </tbody>\n",
       "</table>\n",
       "</div>"
      ],
      "text/plain": [
       "  Region                    Subregion 2               Area  Subregion 2_count\n",
       "0  Espoo        049 11 Kanta-Leppävaara    Suur-Leppävaara                  5\n",
       "1  Espoo         049 13 Kilo-Karakallio    Suur-Leppävaara                  5\n",
       "2  Espoo             049 14 Laaksolahti    Suur-Leppävaara                  5\n",
       "3  Espoo  049 15 Viherlaakso-Lippajärvi    Suur-Leppävaara                  5\n",
       "4  Espoo               049 16 Sepänkylä    Suur-Leppävaara                  5"
      ]
     },
     "execution_count": 69,
     "metadata": {},
     "output_type": "execute_result"
    }
   ],
   "source": [
    "# not run this code\n",
    "subregion_counts = subregions.groupby(\"Area\")[\"Subregion 2\"].nunique()\n",
    "subregions = subregions.merge(subregion_counts, on=\"Area\", suffixes=(\"\", \"_count\"))\n",
    "subregions.head()"
   ]
  },
  {
   "cell_type": "code",
   "execution_count": 70,
   "id": "969646f3-50c1-43d9-bddc-0fcc308d8b91",
   "metadata": {
    "tags": []
   },
   "outputs": [
    {
     "data": {
      "image/png": "[encoded data removed]",
      "text/plain": [
       "<Figure size 1000x600 with 1 Axes>"
      ]
     },
     "metadata": {},
     "output_type": "display_data"
    }
   ],
   "source": [
    "import pandas as pd\n",
    "import matplotlib.pyplot as plt\n",
    "\n",
    "# Read the CSV file into a DataFrame\n",
    "routes_df = pd.read_csv(\"Group project/route.csv\")\n",
    "\n",
    "# Calculate the total distance for each Area A\n",
    "total_distance_by_area = routes_df.groupby('Area A')['Distance'].sum()\n",
    "\n",
    "# Plotting\n",
    "plt.figure(figsize=(10, 6))\n",
    "total_distance_by_area.plot(kind='bar', color='skyblue')\n",
    "\n",
    "plt.title('Total Distance by Area A')\n",
    "plt.xlabel('Area A')\n",
    "plt.ylabel('Total Distance')\n",
    "plt.xticks(rotation=45)\n",
    "plt.grid(axis='y', linestyle='--', alpha=0.7)\n",
    "plt.tight_layout()\n",
    "plt.show()\n"
   ]
  },
  {
   "cell_type": "code",
   "execution_count": null,
   "id": "67e7634b-1db6-4673-b0da-c419e62d5c09",
   "metadata": {},
   "outputs": [],
   "source": []
  }
 ],
 "metadata": {
  "kernelspec": {
   "display_name": "Python 3",
   "language": "python",
   "name": "python3"
  },
  "language_info": {
   "codemirror_mode": {
    "name": "ipython",
    "version": 3
   },
   "file_extension": ".py",
   "mimetype": "text/x-python",
   "name": "python",
   "nbconvert_exporter": "python",
   "pygments_lexer": "ipython3",
   "version": "3.10.12"
  }
 },
 "nbformat": 4,
 "nbformat_minor": 5
}
